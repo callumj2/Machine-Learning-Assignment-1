{
 "cells": [
  {
   "cell_type": "markdown",
   "metadata": {},
   "source": [
    "###### ### The University of Melbourne, School of Computing and Information Systems\n",
    "# COMP30027 Machine Learning, 2021 Semester 1\n",
    "\n",
    "## Assignment 1: Pose classification with naive Bayes\n"
   ]
  },
  {
   "cell_type": "markdown",
   "metadata": {},
   "source": [
    "**Student ID(s):**     910519\n"
   ]
  },
  {
   "cell_type": "markdown",
   "metadata": {},
   "source": [
    "This iPython notebook is a template which you will use for your Assignment 1 submission.\n",
    "\n",
    "Marking will be applied on the four functions that are defined in this notebook, and to your responses to the questions at the end of this notebook (Submitted in a separate PDF file).\n",
    "\n",
    "**NOTE: YOU SHOULD ADD YOUR RESULTS, DIAGRAMS AND IMAGES FROM YOUR OBSERVATIONS IN THIS FILE TO YOUR REPORT (the PDF file).**\n",
    "\n",
    "You may change the prototypes of these functions, and you may write other functions, according to your requirements. We would appreciate it if the required functions were prominent/easy to find.\n",
    "\n",
    "**Adding proper comments to your code is MANDATORY. **"
   ]
  },
  {
   "cell_type": "code",
   "execution_count": 2,
   "metadata": {},
   "outputs": [],
   "source": [
    "# Import dependencies\n",
    "#________________________________________________\n",
    "# General\n",
    "import numpy as np\n",
    "import pandas as pd\n",
    "#________________________________________________\n",
    "# Calculating likelihoods\n",
    "from scipy.stats import norm"
   ]
  },
  {
   "cell_type": "code",
   "execution_count": 3,
   "metadata": {},
   "outputs": [],
   "source": [
    "# This function should prepare the data by reading it from a file and converting it into a useful format for training and testing\n",
    "# Our preprocessing will return a package of all the useful subsets / formats of the data\n",
    "def preprocess():\n",
    "    # Open the training data, assign 'n.a' to values of 9999\n",
    "    with open(\"train.csv\", \"r\") as f:\n",
    "        header = [\"head_x\", \"shoulders_x\", \"elbowR_x\", \"wristR_x\", \"elbowL_x\", \"wristL_x\", \"hips_x\", \\\n",
    "                 \"kneeR_x\", \"footR_x\", \"kneeL_x\", \"footL_x\", \"head_y\", \"shoulders_y\", \"elbowR_y\", \"wristR_y\", \"elbowL_y\", \\\n",
    "                 \"wristL_y\", \"hips_y\", \"kneeR_y\", \"footR_y\", \"kneeL_y\", \"footL_y\"]\n",
    "        data = pd.read_csv(f,na_values = \"9999\", names = header)\n",
    "    return data\n",
    "    \n"
   ]
  },
  {
   "cell_type": "code",
   "execution_count": null,
   "metadata": {},
   "outputs": [],
   "source": [
    "# In order to implement a naive bayes we will need to summarise the data for each class\n",
    "# This will include the mean and standard deviation of each attribute for each class"
   ]
  },
  {
   "cell_type": "code",
   "execution_count": 42,
   "metadata": {},
   "outputs": [
    {
     "name": "stdout",
     "output_type": "stream",
     "text": [
      "{('bridge', 'head_x'): (2.17716120689655, 147.45625730166142), ('bridge', 'shoulders_x'): (12.799640916666668, 87.26131060971926), ('bridge', 'elbowR_x'): (9.788473333333336, 69.6223669514476), ('bridge', 'wristR_x'): (89.91854782608694, 167.94348902165888), ('bridge', 'elbowL_x'): (0.4213794871794877, 55.129079987646314), ('bridge', 'wristL_x'): (-35.66863333333333, 70.25716841477221), ('bridge', 'hips_x'): (-22.888805081967213, 192.64979152310386), ('bridge', 'kneeR_x'): (-59.41316829268295, 223.99857232222982), ('bridge', 'footR_x'): (-2.154617142857146, 170.54554560539896), ('bridge', 'kneeL_x'): (24.154270588235292, 230.84949676439598), ('bridge', 'footL_x'): (27.910829999999997, 319.52468597425616), ('bridge', 'head_y'): (5.844184310344827, 31.252947245027926), ('bridge', 'shoulders_y'): (5.999911388888889, 51.74926245551745), ('bridge', 'elbowR_y'): (-22.507896266666666, 41.13223159327644), ('bridge', 'wristR_y'): (-39.75808695652174, 61.94508798993086), ('bridge', 'elbowL_y'): (-25.190002564102567, 40.607552375301914), ('bridge', 'wristL_y'): (-44.47830121212121, 38.48221455658508), ('bridge', 'hips_y'): (79.06601967213115, 237.04444884411922), ('bridge', 'kneeR_y'): (93.00735707317074, 284.9412335382513), ('bridge', 'footR_y'): (-52.18172285714286, 91.27497099296455), ('bridge', 'kneeL_y'): (50.402327941176466, 64.48199435477763), ('bridge', 'footL_y'): (-175.15788, 627.2761808147103), ('childs', 'head_x'): (-4.940767741935484, 56.00616243198831), ('childs', 'shoulders_x'): (-3.16265679245283, 46.003336045266146), ('childs', 'elbowR_x'): (11.783752, 60.27306045201095), ('childs', 'wristR_x'): (52.291650000000004, 116.9294932450484), ('childs', 'elbowL_x'): (-4.209432187500002, 47.31696149492537), ('childs', 'wristL_x'): (-11.313007692307691, 93.57829415572363), ('childs', 'hips_x'): (-8.853795833333335, 74.2197396946878), ('childs', 'kneeR_x'): (-4.8267500000000005, 57.038308228847676), ('childs', 'footR_x'): (-34.66388461538461, 72.97802376050856), ('childs', 'kneeL_x'): (9.620484000000001, 45.757829697073696), ('childs', 'footL_x'): (34.27129545454546, 90.39372479453415), ('childs', 'head_y'): (-2.1293919354838704, 14.082858708764217), ('childs', 'shoulders_y'): (25.15326301886792, 15.052118583831106), ('childs', 'elbowR_y'): (-14.584744000000002, 25.062826273488525), ('childs', 'wristR_y'): (-39.68251666666666, 48.38668053205223), ('childs', 'elbowL_y'): (-9.313571875, 11.603253746039941), ('childs', 'wristL_y'): (-22.248042307692305, 16.455008845896696), ('childs', 'hips_y'): (35.50921458333334, 22.390282133360557), ('childs', 'kneeR_y'): (-6.5412156249999995, 22.03755161700883), ('childs', 'footR_y'): (-10.83373076923077, 11.74779186484913), ('childs', 'kneeL_y'): (-9.7491972, 15.423353248454521), ('childs', 'footL_y'): (-12.792772727272729, 8.652542126763166), ('downwarddog', 'head_x'): (-10.027590769230768, 44.10774807662861), ('downwarddog', 'shoulders_x'): (-8.713010294117648, 63.947181362623176), ('downwarddog', 'elbowR_x'): (-24.110219696969693, 80.67993023955154), ('downwarddog', 'wristR_x'): (-13.782303448275865, 118.10870618427417), ('downwarddog', 'elbowL_x'): (-22.71792827027027, 62.840125349554576), ('downwarddog', 'wristL_x'): (-41.07185882352941, 102.38677887133349), ('downwarddog', 'hips_x'): (6.465194507042254, 50.803915435073534), ('downwarddog', 'kneeR_x'): (11.840855555555557, 64.6986187828996), ('downwarddog', 'footR_x'): (15.063515909090912, 104.92438857774643), ('downwarddog', 'kneeL_x'): (17.089380163934425, 79.37526885905942), ('downwarddog', 'footL_x'): (28.497109615384616, 118.63648582695262), ('downwarddog', 'head_y'): (-3.485676923076923, 29.035570461395213), ('downwarddog', 'shoulders_y'): (40.486705367647055, 33.414805678843514), ('downwarddog', 'elbowR_y'): (-15.03538484848485, 36.7685811309153), ('downwarddog', 'wristR_y'): (-72.98608275862068, 57.89343296048395), ('downwarddog', 'elbowL_y'): (-20.02509891891892, 24.629971909681707), ('downwarddog', 'wristL_y'): (-64.66375000000001, 36.954104961754844), ('downwarddog', 'hips_y'): (89.78714225352111, 38.530482586850866), ('downwarddog', 'kneeR_y'): (19.233434703703708, 42.426541545602134), ('downwarddog', 'footR_y'): (-60.686522727272724, 49.16346651113099), ('downwarddog', 'kneeL_y'): (34.994317213114755, 64.92411676600967), ('downwarddog', 'footL_y'): (-76.69513269230768, 63.90154865792737), ('mountain', 'head_x'): (-0.007175893749999995, 2.9429559350834964), ('mountain', 'shoulders_x'): (-0.10833398125, 2.257785351891351), ('mountain', 'elbowR_x'): (-43.016699374999995, 7.9896782491832115), ('mountain', 'wristR_x'): (-50.895126875, 18.96906367319765), ('mountain', 'elbowL_x'): (43.16918875, 7.970678304240109), ('mountain', 'wristL_x'): (51.1080169375, 19.072963205337675), ('mountain', 'hips_x'): (-0.15061748599999997, 1.3307441204050507), ('mountain', 'kneeR_x'): (-16.732308749999998, 3.742914996411648), ('mountain', 'footR_x'): (-13.959189312499998, 7.174475378452703), ('mountain', 'kneeL_x'): (16.623688125, 3.7096264561879124), ('mountain', 'footL_x'): (13.968561249999999, 6.9813384747476706), ('mountain', 'head_y'): (156.4419375, 19.582588431829148), ('mountain', 'shoulders_y'): (109.92795625, 16.10293285506332), ('mountain', 'elbowR_y'): (64.60852812499999, 15.385883195618119), ('mountain', 'wristR_y'): (29.111031250000003, 42.7056775033384), ('mountain', 'elbowL_y'): (64.74325625, 15.185203389627786), ('mountain', 'wristL_y'): (28.93996125, 42.133322451194736), ('mountain', 'hips_y'): (9.9549948125, 16.103027890246615), ('mountain', 'kneeR_y'): (-72.35827562499999, 16.11020676599115), ('mountain', 'footR_y'): (-159.43401, 17.87282702275463), ('mountain', 'kneeL_y'): (-72.36981125, 16.025911672580655), ('mountain', 'footL_y'): (-159.565578125, 17.942484815425725), ('plank', 'head_x'): (24.956926, 111.31795012844013), ('plank', 'shoulders_x'): (14.121885185185182, 69.88556343616033), ('plank', 'elbowR_x'): (9.38472608695652, 63.63477582881317), ('plank', 'wristR_x'): (15.924659333333334, 75.5314658917991), ('plank', 'elbowL_x'): (7.493637209302326, 69.63173706273128), ('plank', 'wristL_x'): (5.558242500000001, 81.25650232637918), ('plank', 'hips_x'): (-9.899770403846155, 42.686509150273814), ('plank', 'kneeR_x'): (-25.05448205128205, 84.30810835700665), ('plank', 'footR_x'): (-41.672226470588235, 161.40573758366853), ('plank', 'kneeL_x'): (-8.03773095238095, 96.50065522967869), ('plank', 'footL_x'): (-12.349662162162165, 172.3532625222739), ('plank', 'head_y'): (47.6776332, 27.135649103267887), ('plank', 'shoulders_y'): (46.36738888888889, 18.698437325633094), ('plank', 'elbowR_y'): (-2.959399130434782, 52.001937369402256), ('plank', 'wristR_y'): (-28.06881333333333, 76.19620579088328), ('plank', 'elbowL_y'): (-5.414707906976744, 43.80988444756185), ('plank', 'wristL_y'): (-40.42140500000001, 72.51799617421925), ('plank', 'hips_y'): (26.714821153846156, 16.839749974720895), ('plank', 'kneeR_y'): (-5.000711025641026, 22.49787310173199), ('plank', 'footR_y'): (-47.57350588235294, 36.57453251032821), ('plank', 'kneeL_y'): (0.11667095238095278, 25.81115960044668), ('plank', 'footL_y'): (-32.982348648648646, 47.19238551883262), ('seatedforwardbend', 'head_x'): (8.07045837837838, 80.3766682824181), ('seatedforwardbend', 'shoulders_x'): (2.3668152380952368, 41.0653928366319), ('seatedforwardbend', 'elbowR_x'): (-42.65605084848485, 104.50459906552724), ('seatedforwardbend', 'wristR_x'): (-30.915375862068966, 153.69863069408788), ('seatedforwardbend', 'elbowL_x'): (40.25304333333334, 88.78073165477628), ('seatedforwardbend', 'wristL_x'): (32.82357826086956, 143.06371201968963), ('seatedforwardbend', 'hips_x'): (-15.089689696969696, 96.47994266974679), ('seatedforwardbend', 'kneeR_x'): (-67.18199999999999, 140.17965285712827), ('seatedforwardbend', 'footR_x'): (-337.61092499999995, 469.681527249599), ('seatedforwardbend', 'kneeL_x'): (95.50992727272727, 166.07292537915438), ('seatedforwardbend', 'footL_x'): (433.8921, 520.7197883106102), ('seatedforwardbend', 'head_y'): (20.92948648648649, 59.86992921327758), ('seatedforwardbend', 'shoulders_y'): (32.32104761904762, 28.670754795616386), ('seatedforwardbend', 'elbowR_y'): (-12.618842424242425, 39.562791438421264), ('seatedforwardbend', 'wristR_y'): (-21.851994482758617, 56.23165983386454), ('seatedforwardbend', 'elbowL_y'): (-17.628638148148145, 24.684800852467593), ('seatedforwardbend', 'wristL_y'): (-28.099700000000006, 54.85635564641032), ('seatedforwardbend', 'hips_y'): (14.162823333333332, 54.187610872543125), ('seatedforwardbend', 'kneeR_y'): (-8.46596153846154, 38.391103726070405), ('seatedforwardbend', 'footR_y'): (-39.788525, 23.82019871053066), ('seatedforwardbend', 'kneeL_y'): (-8.623363636363637, 42.376280838560454), ('seatedforwardbend', 'footL_y'): (-15.69605, 63.037387001128145), ('tree', 'head_x'): (0.5895964516129033, 9.358048945250216), ('tree', 'shoulders_x'): (0.7453619402985072, 9.511160036476964), ('tree', 'elbowR_x'): (-37.29350625, 22.982294409875237), ('tree', 'wristR_x'): (-12.247311587301589, 23.571910050429366), ('tree', 'elbowL_x'): (38.524274999999996, 25.623264506687715), ('tree', 'wristL_x'): (14.73301875, 21.275965625375363), ('tree', 'hips_x'): (-1.055581828125, 5.346032114442753), ('tree', 'kneeR_x'): (-41.706666666666656, 36.98956835642771), ('tree', 'footR_x'): (-1.914126979032258, 11.275836017333978), ('tree', 'kneeL_x'): (37.214271875, 33.50877525479467), ('tree', 'footL_x'): (1.5394135483870968, 5.432844732823754), ('tree', 'head_y'): (104.89924193548389, 25.94330535063421), ('tree', 'shoulders_y'): (61.93696865671643, 31.123097936177754), ('tree', 'elbowR_y'): (71.7161203125, 36.24446901008803), ('tree', 'wristR_y'): (99.04086190476191, 47.12952594323787), ('tree', 'elbowL_y'): (73.585165625, 33.96406766811355), ('tree', 'wristL_y'): (103.2893703125, 47.11896775876615), ('tree', 'hips_y'): (-33.66588906250001, 22.954102585439806), ('tree', 'kneeR_y'): (-95.50299047619046, 31.84376522423753), ('tree', 'footR_y'): (-139.17024677419357, 64.71068540852853), ('tree', 'kneeL_y'): (-100.622296875, 29.797828643114826), ('tree', 'footL_y'): (-154.24547258064518, 62.476419107466924), ('trianglepose', 'head_x'): (-16.16435728813559, 72.16094984397112), ('trianglepose', 'shoulders_x'): (-9.247945762711863, 34.87781138056668), ('trianglepose', 'elbowR_x'): (-15.924755172413793, 39.58539121318764), ('trianglepose', 'wristR_x'): (-20.158179310344828, 53.87861146650089), ('trianglepose', 'elbowL_x'): (0.0679258620689642, 38.75076027038474), ('trianglepose', 'wristL_x'): (2.5318982456140353, 49.8310649765768), ('trianglepose', 'hips_x'): (9.23631534482759, 56.69326616908678), ('trianglepose', 'kneeR_x'): (-42.636746428571435, 68.00551583051578), ('trianglepose', 'footR_x'): (-81.63539074074072, 92.4868437470367), ('trianglepose', 'kneeL_x'): (68.4561469090909, 64.57527494969517), ('trianglepose', 'footL_x'): (112.05758867924528, 85.33068693640475), ('trianglepose', 'head_y'): (68.3730254237288, 26.16567024060075), ('trianglepose', 'shoulders_y'): (47.08012372881356, 20.740669996654326), ('trianglepose', 'elbowR_y'): (31.4798724137931, 88.71713845090542), ('trianglepose', 'wristR_y'): (20.34680172413793, 140.8883607547722), ('trianglepose', 'elbowL_y'): (63.40598793103449, 91.9844509082026), ('trianglepose', 'wristL_y'): (78.33071929824561, 140.41157676101383), ('trianglepose', 'hips_y'): (13.86441379310345, 24.28179229538663), ('trianglepose', 'kneeR_y'): (-49.614862499999994, 14.550999207509147), ('trianglepose', 'footR_y'): (-125.42723518518515, 20.558093343564256), ('trianglepose', 'kneeL_y'): (-48.677403636363636, 18.940289117254036), ('trianglepose', 'footL_y'): (-123.31050943396227, 20.58942499837145), ('warrior1', 'head_x'): (-0.4437263461538465, 20.628731854609686), ('warrior1', 'shoulders_x'): (-0.5222030188679244, 11.55769655576993), ('warrior1', 'elbowR_x'): (-14.092364285714284, 35.485022107601765), ('warrior1', 'wristR_x'): (-22.033843947368425, 59.642369264757725), ('warrior1', 'elbowL_x'): (19.945514874285717, 34.80436621513101), ('warrior1', 'wristL_x'): (29.845927548387092, 55.08201415763192), ('warrior1', 'hips_x'): (-2.162808846153847, 16.085168726376683), ('warrior1', 'kneeR_x'): (-32.01915882352942, 70.3399702210633), ('warrior1', 'footR_x'): (-54.61588823529413, 107.37809273434809), ('warrior1', 'kneeL_x'): (32.65708431372549, 72.29130961322633), ('warrior1', 'footL_x'): (54.43882200000001, 109.06319191267667), ('warrior1', 'head_y'): (92.62072884615385, 25.91621499326989), ('warrior1', 'shoulders_y'): (55.93256037735849, 23.41043071866881), ('warrior1', 'elbowR_y'): (95.14365238095236, 41.963742668660764), ('warrior1', 'wristR_y'): (125.51169736842107, 69.8669232967836), ('warrior1', 'elbowL_y'): (95.22399428571428, 34.46006998284983), ('warrior1', 'wristL_y'): (135.16132258064516, 42.96292733549635), ('warrior1', 'hips_y'): (-38.286075, 21.753738107951996), ('warrior1', 'kneeR_y'): (-73.36899607843138, 27.69137176550097), ('warrior1', 'footR_y'): (-144.12404901960784, 23.805458348213946), ('warrior1', 'kneeL_y'): (-74.98080196078433, 24.91706659474578), ('warrior1', 'footL_y'): (-143.23961199999997, 23.381063524034897), ('warrior2', 'head_x'): (-2.517900555555556, 15.439411198394305), ('warrior2', 'shoulders_x'): (0.00022448148148150417, 6.279144640911315), ('warrior2', 'elbowR_x'): (-76.12632037037037, 40.357311838149634), ('warrior2', 'wristR_x'): (-119.80786481481482, 63.80039701980971), ('warrior2', 'elbowL_x'): (76.75471666666665, 40.41780316138837), ('warrior2', 'wristL_x'): (120.4528188679245, 62.49358411564852), ('warrior2', 'hips_x'): (-1.1525174259259259, 5.315068633325449), ('warrior2', 'kneeR_x'): (-76.04170555555555, 42.95145342286756), ('warrior2', 'footR_x'): (-111.01748301886792, 65.69762315681811), ('warrior2', 'kneeL_x'): (74.52696481481482, 42.29484359651921), ('warrior2', 'footL_x'): (117.2755679245283, 66.61794176867177), ('warrior2', 'head_y'): (107.84197777777776, 9.278794949586826), ('warrior2', 'shoulders_y'): (66.80626666666666, 7.226784816719662), ('warrior2', 'elbowR_y'): (69.21706851851852, 6.2251730216410515), ('warrior2', 'wristR_y'): (71.64403703703704, 12.199403308997677), ('warrior2', 'elbowL_y'): (66.94243518518518, 9.582791961659021), ('warrior2', 'wristL_y'): (66.9931037735849, 18.310484075250045), ('warrior2', 'hips_y'): (-32.94645370370371, 7.215926101933897), ('warrior2', 'kneeR_y'): (-66.1439925925926, 17.373233167762802), ('warrior2', 'footR_y'): (-139.11813584905664, 11.992646180922938), ('warrior2', 'kneeL_y'): (-73.42969259259259, 17.70455119268161), ('warrior2', 'footL_y'): (-141.76758679245282, 12.672664563828802)}\n"
     ]
    }
   ],
   "source": [
    "# This function should calculate prior probabilities and likelihoods from the training data and using\n",
    "# them to build a naive Bayes model\n",
    "\n",
    "def train():\n",
    "    # First we will fetch our set of useful data\n",
    "    data = preprocess()\n",
    "\n",
    "    # The priors for each class are P(Class) = class_dict[class]/number of instances\n",
    "    # ie. The proportion of each class in the data set\n",
    "    n_instances = len(data)\n",
    "    priors = {}\n",
    "    sum = 0\n",
    "    for _class in data.index.unique():\n",
    "        priors[_class] = len(data[data.index == _class])/n_instances\n",
    "        \n",
    "    # We will need to create some normal functions based around the mean and standard deviation of\n",
    "    # each attribute within each class\n",
    "    # To do so we will create a dictionary that maps each class-attribute combination to it's mean and standard deviation\n",
    "    # eg. params_dict[('bridge', 'head_x')] = (2.17716120689655, 147.45625730166142)\n",
    "    params_dict = {}\n",
    "    # For each class\n",
    "    for _class in data.index.unique():\n",
    "        params = data[data.index == _class].describe(include='all').loc[['mean','std']]\n",
    "        # For each attribute\n",
    "        for attribute in data.columns:\n",
    "            # Map (class, attribute) to (mean, sd)\n",
    "            params_dict[(_class, attribute)] = (params[attribute][0], params[attribute][1])\n",
    "            \n",
    "\n",
    "        \n",
    "    \n",
    "    # print(data[data.index == \"bridge\"].describe())\n",
    "\n",
    "    # A Naive Bayes Learner will predict the class that maximises the posterior given the attributes seen\n",
    "    # P(class|data) = (P(data|class) * P(class))/P(data)\n",
    "    return\n",
    "\n",
    "train()"
   ]
  },
  {
   "cell_type": "code",
   "execution_count": 41,
   "metadata": {},
   "outputs": [
    {
     "ename": "SyntaxError",
     "evalue": "invalid syntax (<ipython-input-41-e31d33f5656f>, line 9)",
     "output_type": "error",
     "traceback": [
      "\u001b[1;36m  File \u001b[1;32m\"<ipython-input-41-e31d33f5656f>\"\u001b[1;36m, line \u001b[1;32m9\u001b[0m\n\u001b[1;33m    test =\u001b[0m\n\u001b[1;37m           ^\u001b[0m\n\u001b[1;31mSyntaxError\u001b[0m\u001b[1;31m:\u001b[0m invalid syntax\n"
     ]
    }
   ],
   "source": [
    "# This function should predict classes for new items in a test dataset (for the purposes of this assignment, you\n",
    "# can re-use the training data as a test set)\n",
    "\n",
    "def predict():\n",
    "    # P(class|data) = P(X|class) * P(class)\n",
    "    \n",
    "    # Load the test data\n",
    "    \n",
    "    test = \n",
    "    return"
   ]
  },
  {
   "cell_type": "code",
   "execution_count": null,
   "metadata": {
    "collapsed": true
   },
   "outputs": [],
   "source": [
    "# This function should evaliate the prediction performance by comparing your model’s class outputs to ground\n",
    "# truth labels\n",
    "\n",
    "def evaluate():\n",
    "    return"
   ]
  },
  {
   "cell_type": "markdown",
   "metadata": {},
   "source": [
    "## Questions \n",
    "\n",
    "\n",
    "If you are in a group of 1, you will respond to **two** questions of your choosing.\n",
    "\n",
    "If you are in a group of 2, you will respond to **four** questions of your choosing.\n",
    "\n",
    "A response to a question should take about 100–250 words, and make reference to the data wherever possible.\n",
    "\n",
    "#### NOTE: you may develope codes or functions to help respond to the question here, but your formal answer should be submitted separately as a PDF."
   ]
  },
  {
   "cell_type": "markdown",
   "metadata": {},
   "source": [
    "### Q1\n",
    "Since this is a multiclass classification problem, there are multiple ways to compute precision, recall, and F-score for this classifier. Implement at least two of the methods from the \"Model Evaluation\" lecture and discuss any differences between them. (The implementation should be your own and should not just call a pre-existing function.)"
   ]
  },
  {
   "cell_type": "code",
   "execution_count": null,
   "metadata": {
    "collapsed": true
   },
   "outputs": [],
   "source": []
  },
  {
   "cell_type": "markdown",
   "metadata": {},
   "source": [
    "### Q2\n",
    "The Gaussian naıve Bayes classifier assumes that numeric attributes come from a Gaussian distribution. Is this assumption always true for the numeric attributes in this dataset? Identify some cases where the Gaussian assumption is violated and describe any evidence (or lack thereof) that this has some effect on the classifier’s predictions."
   ]
  },
  {
   "cell_type": "code",
   "execution_count": null,
   "metadata": {
    "collapsed": true
   },
   "outputs": [],
   "source": []
  },
  {
   "cell_type": "markdown",
   "metadata": {},
   "source": [
    "### Q3\n",
    "Implement a kernel density estimate (KDE) naive Bayes classifier and compare its performance to the Gaussian naive Bayes classifier. Recall that KDE has kernel bandwidth as a free parameter -- you can choose an arbitrary value for this, but a value in the range 5-25 is recommended. Discuss any differences you observe between the Gaussian and KDE naive Bayes classifiers. (As with the Gaussian naive Bayes, this KDE naive Bayes implementation should be your own and should not just call a pre-existing function.)"
   ]
  },
  {
   "cell_type": "code",
   "execution_count": null,
   "metadata": {
    "collapsed": true
   },
   "outputs": [],
   "source": []
  },
  {
   "cell_type": "markdown",
   "metadata": {},
   "source": [
    "### Q4\n",
    "Instead of using an arbitrary kernel bandwidth for the KDE naive Bayes classifier, use random hold-out or cross-validation to choose the kernel bandwidth. Discuss how this changes the model performance compared to using an arbitrary kernel bandwidth."
   ]
  },
  {
   "cell_type": "code",
   "execution_count": null,
   "metadata": {
    "collapsed": true
   },
   "outputs": [],
   "source": []
  },
  {
   "cell_type": "markdown",
   "metadata": {},
   "source": [
    "### Q5\n",
    "Naive Bayes ignores missing values, but in pose recognition tasks the missing values can be informative. Missing values indicate that some part of the body was obscured and sometimes this is relevant to the pose (e.g., holding one hand behind the back). Are missing values useful for this task? Implement a method that incorporates information about missing values and demonstrate whether it changes the classification results."
   ]
  },
  {
   "cell_type": "code",
   "execution_count": null,
   "metadata": {
    "collapsed": true
   },
   "outputs": [],
   "source": []
  },
  {
   "cell_type": "markdown",
   "metadata": {},
   "source": [
    "### Q6\n",
    "Engineer your own pose features from the provided keypoints. Instead of using the (x,y) positions of keypoints, you might consider the angles of the limbs or body, or the distances between pairs of keypoints. How does a naive Bayes classifier based on your engineered features compare to the classifier using (x,y) values? Please note that we are interested in explainable features for pose recognition, so simply putting the (x,y) values in a neural network or similar to get an arbitrary embedding will not receive full credit for this question. You should be able to explain the rationale behind your proposed features. Also, don't forget the conditional independence assumption of naive Bayes when proposing new features -- a large set of highly-correlated features may not work well."
   ]
  },
  {
   "cell_type": "code",
   "execution_count": null,
   "metadata": {
    "collapsed": true
   },
   "outputs": [],
   "source": []
  }
 ],
 "metadata": {
  "kernelspec": {
   "display_name": "Python 3",
   "language": "python",
   "name": "python3"
  },
  "language_info": {
   "codemirror_mode": {
    "name": "ipython",
    "version": 3
   },
   "file_extension": ".py",
   "mimetype": "text/x-python",
   "name": "python",
   "nbconvert_exporter": "python",
   "pygments_lexer": "ipython3",
   "version": "3.9.2"
  }
 },
 "nbformat": 4,
 "nbformat_minor": 4
}
