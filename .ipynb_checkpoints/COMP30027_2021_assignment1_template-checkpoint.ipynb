{
 "cells": [
  {
   "cell_type": "markdown",
   "metadata": {},
   "source": [
    "###### ### The University of Melbourne, School of Computing and Information Systems\n",
    "# COMP30027 Machine Learning, 2021 Semester 1\n",
    "\n",
    "## Assignment 1: Pose classification with naive Bayes\n"
   ]
  },
  {
   "cell_type": "markdown",
   "metadata": {},
   "source": [
    "**Student ID(s):**     910519\n"
   ]
  },
  {
   "cell_type": "markdown",
   "metadata": {},
   "source": [
    "This iPython notebook is a template which you will use for your Assignment 1 submission.\n",
    "\n",
    "Marking will be applied on the four functions that are defined in this notebook, and to your responses to the questions at the end of this notebook (Submitted in a separate PDF file).\n",
    "\n",
    "**NOTE: YOU SHOULD ADD YOUR RESULTS, DIAGRAMS AND IMAGES FROM YOUR OBSERVATIONS IN THIS FILE TO YOUR REPORT (the PDF file).**\n",
    "\n",
    "You may change the prototypes of these functions, and you may write other functions, according to your requirements. We would appreciate it if the required functions were prominent/easy to find.\n",
    "\n",
    "**Adding proper comments to your code is MANDATORY. **"
   ]
  },
  {
   "cell_type": "code",
   "execution_count": 2,
   "metadata": {},
   "outputs": [],
   "source": [
    "# Import dependencies\n",
    "#________________________________________________\n",
    "# General\n",
    "import numpy as np\n",
    "import pandas as pd\n",
    "#________________________________________________\n",
    "# Calculating likelihoods\n",
    "from scipy.stats import norm"
   ]
  },
  {
   "cell_type": "code",
   "execution_count": 3,
   "metadata": {},
   "outputs": [],
   "source": [
    "# This function should prepare the data by reading it from a file and converting it into a useful format for training and testing\n",
    "# Our preprocessing will return a package of all the useful subsets / formats of the data\n",
    "def preprocess():\n",
    "    # Open the training data, assign 'n.a' to values of 9999\n",
    "    with open(\"train.csv\", \"r\") as f:\n",
    "        header = [\"head_x\", \"shoulders_x\", \"elbowR_x\", \"wristR_x\", \"elbowL_x\", \"wristL_x\", \"hips_x\", \\\n",
    "                 \"kneeR_x\", \"footR_x\", \"kneeL_x\", \"footL_x\", \"head_y\", \"shoulders_y\", \"elbowR_y\", \"wristR_y\", \"elbowL_y\", \\\n",
    "                 \"wristL_y\", \"hips_y\", \"kneeR_y\", \"footR_y\", \"kneeL_y\", \"footL_y\"]\n",
    "        data = pd.read_csv(f,na_values = \"9999\", names = header)\n",
    "    return data\n",
    "    \n"
   ]
  },
  {
   "cell_type": "code",
   "execution_count": null,
   "metadata": {},
   "outputs": [],
   "source": [
    "# In order to implement a naive bayes we will need to summarise the data for each class\n",
    "# This will include the mean and standard deviation of each attribute for each class"
   ]
  },
  {
   "cell_type": "code",
   "execution_count": 49,
   "metadata": {},
   "outputs": [],
   "source": [
    "# This function should calculate prior probabilities and likelihoods from the training data and using\n",
    "# them to build a naive Bayes model\n",
    "\n",
    "def train():\n",
    "    # First we will fetch our set of useful data\n",
    "    data = preprocess()\n",
    "    \n",
    "    # A Naive Bayes Learner will predict the class that maximises the posterior given the attributes seen, the\n",
    "    # equation we will use is\n",
    "    #\n",
    "    #    P(class|data) = (P(data|class) * P(class))/P(data))\n",
    "    #\n",
    "    # We will construct dictionaries to fetch values for each term:\n",
    "    \n",
    "    \n",
    "    #  ==> P(class)\n",
    "    # The priors for each class are P(Class) = class_dict[class]/number of instances\n",
    "    # ie. The proportion of each class in the data set:\n",
    "    n_instances = len(data)\n",
    "    priors = {}\n",
    "    sum = 0\n",
    "    for _class in data.index.unique():\n",
    "        priors[_class] = len(data[data.index == _class])/n_instances\n",
    "    \n",
    "    \n",
    "    #  ==> P(data)\n",
    "    #\n",
    "    # We will also need to know the likelihood of the attribute value seen:\n",
    "    # Since the data is continuous we will find out the mean and standard deviation of the data and use that to create\n",
    "    # a likelihood estimate when predicting\n",
    "    params_dict = {}\n",
    "    # For each attribute\n",
    "    for attribute in data.columns:\n",
    "        # Fetch the parameters\n",
    "        params = data[attribute].describe(include='all').loc[['mean','std']]\n",
    "        params_dict[attribute] = (params[0], params[1])\n",
    "        \n",
    "    \n",
    "    #  ==> P(data|class)\n",
    "    #\n",
    "    # We will also need the mean and standard deviation of\n",
    "    # each attribute within each class  \n",
    "    # To do so we will create a dictionary that maps each class-attribute combination to it's mean and standard deviation\n",
    "    # eg. params_dict[('bridge', 'head_x')] = (2.17716120689655, 147.45625730166142)\n",
    "    class_params_dict = {}\n",
    "    # For each class\n",
    "    for _class in data.index.unique():\n",
    "        params = data[data.index == _class].describe(include='all').loc[['mean','std']]\n",
    "        # For each attribute\n",
    "        for attribute in data.columns:\n",
    "            # Map (class, attribute) to (mean, sd)\n",
    "            class_params_dict[(_class, attribute)] = (params[attribute][0], params[attribute][1])\n",
    "\n",
    "    # Return our 3 dictionaries\n",
    "    return {\"Priors\": priors, \"Attribute Params\": params_dict, \"Attribute Params By Class\": class_params_dict}\n"
   ]
  },
  {
   "cell_type": "code",
   "execution_count": 41,
   "metadata": {},
   "outputs": [
    {
     "ename": "SyntaxError",
     "evalue": "invalid syntax (<ipython-input-41-e31d33f5656f>, line 9)",
     "output_type": "error",
     "traceback": [
      "\u001b[1;36m  File \u001b[1;32m\"<ipython-input-41-e31d33f5656f>\"\u001b[1;36m, line \u001b[1;32m9\u001b[0m\n\u001b[1;33m    test =\u001b[0m\n\u001b[1;37m           ^\u001b[0m\n\u001b[1;31mSyntaxError\u001b[0m\u001b[1;31m:\u001b[0m invalid syntax\n"
     ]
    }
   ],
   "source": [
    "# This function should predict classes for new items in a test dataset (for the purposes of this assignment, you\n",
    "# can re-use the training data as a test set)\n",
    "\n",
    "def predict():\n",
    "    \n",
    "    # Load the test data\n",
    "    \n",
    "    test = \n",
    "    return"
   ]
  },
  {
   "cell_type": "code",
   "execution_count": null,
   "metadata": {
    "collapsed": true
   },
   "outputs": [],
   "source": [
    "# This function should evaliate the prediction performance by comparing your model’s class outputs to ground\n",
    "# truth labels\n",
    "\n",
    "def evaluate():\n",
    "    return"
   ]
  },
  {
   "cell_type": "markdown",
   "metadata": {},
   "source": [
    "## Questions \n",
    "\n",
    "\n",
    "If you are in a group of 1, you will respond to **two** questions of your choosing.\n",
    "\n",
    "If you are in a group of 2, you will respond to **four** questions of your choosing.\n",
    "\n",
    "A response to a question should take about 100–250 words, and make reference to the data wherever possible.\n",
    "\n",
    "#### NOTE: you may develope codes or functions to help respond to the question here, but your formal answer should be submitted separately as a PDF."
   ]
  },
  {
   "cell_type": "markdown",
   "metadata": {},
   "source": [
    "### Q1\n",
    "Since this is a multiclass classification problem, there are multiple ways to compute precision, recall, and F-score for this classifier. Implement at least two of the methods from the \"Model Evaluation\" lecture and discuss any differences between them. (The implementation should be your own and should not just call a pre-existing function.)"
   ]
  },
  {
   "cell_type": "code",
   "execution_count": null,
   "metadata": {
    "collapsed": true
   },
   "outputs": [],
   "source": []
  },
  {
   "cell_type": "markdown",
   "metadata": {},
   "source": [
    "### Q2\n",
    "The Gaussian naıve Bayes classifier assumes that numeric attributes come from a Gaussian distribution. Is this assumption always true for the numeric attributes in this dataset? Identify some cases where the Gaussian assumption is violated and describe any evidence (or lack thereof) that this has some effect on the classifier’s predictions."
   ]
  },
  {
   "cell_type": "code",
   "execution_count": null,
   "metadata": {
    "collapsed": true
   },
   "outputs": [],
   "source": []
  },
  {
   "cell_type": "markdown",
   "metadata": {},
   "source": [
    "### Q3\n",
    "Implement a kernel density estimate (KDE) naive Bayes classifier and compare its performance to the Gaussian naive Bayes classifier. Recall that KDE has kernel bandwidth as a free parameter -- you can choose an arbitrary value for this, but a value in the range 5-25 is recommended. Discuss any differences you observe between the Gaussian and KDE naive Bayes classifiers. (As with the Gaussian naive Bayes, this KDE naive Bayes implementation should be your own and should not just call a pre-existing function.)"
   ]
  },
  {
   "cell_type": "code",
   "execution_count": null,
   "metadata": {
    "collapsed": true
   },
   "outputs": [],
   "source": []
  },
  {
   "cell_type": "markdown",
   "metadata": {},
   "source": [
    "### Q4\n",
    "Instead of using an arbitrary kernel bandwidth for the KDE naive Bayes classifier, use random hold-out or cross-validation to choose the kernel bandwidth. Discuss how this changes the model performance compared to using an arbitrary kernel bandwidth."
   ]
  },
  {
   "cell_type": "code",
   "execution_count": null,
   "metadata": {
    "collapsed": true
   },
   "outputs": [],
   "source": []
  },
  {
   "cell_type": "markdown",
   "metadata": {},
   "source": [
    "### Q5\n",
    "Naive Bayes ignores missing values, but in pose recognition tasks the missing values can be informative. Missing values indicate that some part of the body was obscured and sometimes this is relevant to the pose (e.g., holding one hand behind the back). Are missing values useful for this task? Implement a method that incorporates information about missing values and demonstrate whether it changes the classification results."
   ]
  },
  {
   "cell_type": "code",
   "execution_count": null,
   "metadata": {
    "collapsed": true
   },
   "outputs": [],
   "source": []
  },
  {
   "cell_type": "markdown",
   "metadata": {},
   "source": [
    "### Q6\n",
    "Engineer your own pose features from the provided keypoints. Instead of using the (x,y) positions of keypoints, you might consider the angles of the limbs or body, or the distances between pairs of keypoints. How does a naive Bayes classifier based on your engineered features compare to the classifier using (x,y) values? Please note that we are interested in explainable features for pose recognition, so simply putting the (x,y) values in a neural network or similar to get an arbitrary embedding will not receive full credit for this question. You should be able to explain the rationale behind your proposed features. Also, don't forget the conditional independence assumption of naive Bayes when proposing new features -- a large set of highly-correlated features may not work well."
   ]
  },
  {
   "cell_type": "code",
   "execution_count": null,
   "metadata": {
    "collapsed": true
   },
   "outputs": [],
   "source": []
  }
 ],
 "metadata": {
  "kernelspec": {
   "display_name": "Python 3",
   "language": "python",
   "name": "python3"
  },
  "language_info": {
   "codemirror_mode": {
    "name": "ipython",
    "version": 3
   },
   "file_extension": ".py",
   "mimetype": "text/x-python",
   "name": "python",
   "nbconvert_exporter": "python",
   "pygments_lexer": "ipython3",
   "version": "3.9.2"
  }
 },
 "nbformat": 4,
 "nbformat_minor": 4
}
