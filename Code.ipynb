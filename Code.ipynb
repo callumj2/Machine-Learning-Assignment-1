{
 "cells": [
  {
   "cell_type": "markdown",
   "metadata": {},
   "source": [
    "###### ### The University of Melbourne, School of Computing and Information Systems\n",
    "# COMP30027 Machine Learning, 2021 Semester 1\n",
    "\n",
    "## Assignment 1: Pose classification with naive Bayes\n"
   ]
  },
  {
   "cell_type": "markdown",
   "metadata": {},
   "source": [
    "**Student ID(s):**     910519\n"
   ]
  },
  {
   "cell_type": "markdown",
   "metadata": {},
   "source": [
    "### General Set Up\n",
    "Before we begin we will need to import dependencies:"
   ]
  },
  {
   "cell_type": "code",
   "execution_count": 242,
   "metadata": {},
   "outputs": [],
   "source": [
    "# Import dependencies\n",
    "#________________________________________________\n",
    "# General\n",
    "import numpy as np\n",
    "import pandas as pd\n",
    "import time\n",
    "#________________________________________________\n",
    "# Calculating likelihoods\n",
    "from scipy.stats import norm\n",
    "from math import log, isnan\n",
    "\n",
    "#________________________________________________\n",
    "# Graphing data\n",
    "import seaborn as sns\n",
    "import matplotlib as mpl\n",
    "import matplotlib.pyplot as plt\n"
   ]
  },
  {
   "cell_type": "markdown",
   "metadata": {},
   "source": [
    "... and define a function for preprocessing our data sets:"
   ]
  },
  {
   "cell_type": "code",
   "execution_count": 243,
   "metadata": {},
   "outputs": [],
   "source": [
    "#_______________________________________________________________________________\n",
    "# Preprocessing\n",
    "\n",
    "# Takes a filepath to a .csv dataset, and returns a pandas data frame of the\n",
    "# data, with values of 9999 replaced with \"NaN\"\n",
    "def preprocess(filepath):\n",
    "    with open(filepath, \"r\") as f:\n",
    "        header = [\"head_x\", \"shoulders_x\", \"elbowR_x\", \"wristR_x\", \"elbowL_x\",\\\n",
    "                    \"wristL_x\", \"hips_x\", \"kneeR_x\", \"footR_x\", \"kneeL_x\", \\\n",
    "                    \"footL_x\", \"head_y\", \"shoulders_y\", \"elbowR_y\", \"wristR_y\",\\\n",
    "                    \"elbowL_y\", \"wristL_y\", \"hips_y\", \"kneeR_y\", \"footR_y\", \\\n",
    "                    \"kneeL_y\", \"footL_y\"]\n",
    "        data = pd.read_csv(f,na_values = \"9999\", names = header)\n",
    "    return data\n"
   ]
  },
  {
   "cell_type": "markdown",
   "metadata": {},
   "source": [
    "Finally we will need a function for predicting classes over a whole dataset"
   ]
  },
  {
   "cell_type": "code",
   "execution_count": 244,
   "metadata": {},
   "outputs": [],
   "source": [
    "#_______________________________________________________________________________\n",
    "# Predicting data\n",
    "\n",
    "# Takes a Classifier and a filepath to a test set (eg. \"test.csv\") and returns\n",
    "# a list of predicted class\n",
    "# made by the model\n",
    "def predict_set(model, filepath):\n",
    "    # Load the test data set and initialise our predictions space\n",
    "    test = preprocess(filepath)\n",
    "    predictions = []\n",
    "    \n",
    "    i = 0\n",
    "    # For each test instance\n",
    "    for instance in [test.iloc[i] for i in range(len(test))]:\n",
    "        # Predict the result and add it to predictions\n",
    "        predictions.append(model.predict(instance))\n",
    "    \n",
    "    return predictions"
   ]
  },
  {
   "cell_type": "markdown",
   "metadata": {},
   "source": [
    "Now we're ready to rumble!"
   ]
  },
  {
   "cell_type": "markdown",
   "metadata": {},
   "source": [
    "### Part 1: Gaussian Naïve Bayes Classifier\n",
    "We will construct a Naïve Bayes Classifier Class, with the following methods:\n",
    "\n",
    "1. train(filepath) - Takes in a filepath to a training data set in a csv file (eg. \"train.csv\") and assigns internal attributes relating to the training data (training the model)\n",
    "\n",
    "2. predict(instance) - Takes a __single__ instance and returns a predicted class for it based on the trained model\n",
    "\n",
    "The model will predict instances by creating a modified likelihood as follows:\n",
    "\n",
    "$P(class|data) = \\text{ln } P(class) + \\sum\\limits_{i = 1}^{n} \\text{ln} P(attribute_i | class) $\n",
    "\n",
    "Where the log is taken to prevent underflow when applying Bayes Law to calculate probabilities. This is also discussed in the code.\n",
    "\n",
    "    "
   ]
  },
  {
   "cell_type": "code",
   "execution_count": 245,
   "metadata": {},
   "outputs": [],
   "source": [
    "#_______________________________________________________________________________\n",
    "# Gaussian Bayes\n",
    "class Gaussian_Naive_Bayes:\n",
    "\n",
    "    def train(self,training_filepath):\n",
    "        # First we will process our data\n",
    "        data = preprocess(training_filepath)\n",
    "        \n",
    "        # A Naive Bayes Learner will predict the class that maximises the \n",
    "        # posterior given the attributes seen, the equation we will use is\n",
    "        #\n",
    "        #    P(class|data) = (P(data|class) * P(class))/P(data))\n",
    "        #\n",
    "        # We will be ignoring P(data) since it does not assist in selecting a \n",
    "        # class and will store values used to compute the remaining 2 terms\n",
    "        # as python dictionaries.\n",
    "        \n",
    "        \n",
    "        #  ==> P(class)\n",
    "        # The priors for each class are P(Class) = class_dict[class]/number of \n",
    "        # instances - ie. The proportion of each class in the data set:\n",
    "        n_instances = len(data)\n",
    "        priors = {}\n",
    "\n",
    "        for _class in data.index.unique():\n",
    "            priors[_class] = len(data[data.index == _class])/n_instances\n",
    "        \n",
    "        \n",
    "        #  ==> P(data|class)\n",
    "        #\n",
    "        # We will also need the mean and standard deviation of\n",
    "        # each attribute within each class  \n",
    "        # To do so we will create a dictionary that maps each class-attribute \n",
    "        # combination to it's mean and standard deviation\n",
    "        #\n",
    "        # eg. params_dict[('bridge', 'head_x')] \n",
    "        #   = (2.17716120689655, 147.45625730166142)\n",
    "        \n",
    "        params_dict = {}\n",
    "        # For each class\n",
    "        for _class in data.index.unique():\n",
    "            # Subset the data to the desired class, and fetch the mean\n",
    "            # and standard deviation\n",
    "            params = data[data.index == _class].describe(include='all').loc[\\\n",
    "                                                                ['mean','std']]\n",
    "            # For each attribute\n",
    "            for attribute in data.columns:\n",
    "                # Map (class, attribute) to (mean, sd)\n",
    "                params_dict[(_class, attribute)] = (params[attribute][0], \\\n",
    "                                                        params[attribute][1])\n",
    "\n",
    "        # Assign our dictionaries internally\n",
    "        self.priors = priors\n",
    "        self.params_dict = params_dict\n",
    "\n",
    "        # We will also keep track of the column names for referencing later\n",
    "        self.columns = data.columns\n",
    "\n",
    "        \n",
    "    # Takes a single instance and returns a predicted class for it\n",
    "    def predict(self, instance):\n",
    "        # Initially our max probability and class values have not been assigned\n",
    "        max_prob = None\n",
    "        max_class = None\n",
    "        \n",
    "        # In order to combat underflow, instead of using the conventional\n",
    "        # likelihood calculation we specified above, we will instead use\n",
    "        # P(class|data) ~ Ln(P(class)) + Sum( Ln(P(data|class)) )\n",
    "        \n",
    "        # For each possible class\n",
    "        for _class in list(self.priors):\n",
    "            \n",
    "            # Initialise the probability for this class with the first term,\n",
    "            # log(P(class))\n",
    "            prior = self.priors[_class]\n",
    "            prob = log(prior)\n",
    "            \n",
    "            # For each attribute\n",
    "            attr_index = 0\n",
    "            for attr in instance:\n",
    "                \n",
    "                # Extract the mean and standard deviation for that attribute \n",
    "                # given the current class\n",
    "                (mean, stddev) = self.params_dict[(_class, self.columns[attr_index])]\n",
    "                \n",
    "                # Calculate the likelihood of the data given this class\n",
    "                likelihood = norm.pdf(attr, mean, stddev)\n",
    "                \n",
    "                # If the likelihood is valid\n",
    "                if (not isnan(likelihood)) and likelihood != 0:\n",
    "                    \n",
    "                    # Add the log-likelihood to our ongoing sum\n",
    "                    prob = prob + log(likelihood)\n",
    "                \n",
    "                # Move on to the next attribute\n",
    "                attr_index = attr_index + 1\n",
    "            \n",
    "            # Once all attributes have been examined,\n",
    "            # If this is the first class we've looked at or if this is a new \n",
    "            # maximum\n",
    "            if (not max_prob) or (max_prob and (prob > max_prob)):\n",
    "                # Reassign the new maximum value and class\n",
    "                max_prob = prob\n",
    "                max_class = _class\n",
    "                \n",
    "        # After looking at all possible classes, return the most likely\n",
    "        return max_class\n",
    "    \n",
    "    # Returns a string representation identifying this classifier\n",
    "    def get_name(self):\n",
    "        return \"Gaussian_NB\""
   ]
  },
  {
   "cell_type": "markdown",
   "metadata": {},
   "source": [
    "### Part 2: KDE Naive Bayes Classifier (Question 3)\n",
    "Similarly to the first part, we will construct a classifier class for our KDE Classifier.\n",
    "The classifier will have the same methods as the Gaussian Naive Bayes, with the addition of:\n",
    "    _KDE(x, data_points) - Takes an attribute value, and the data points which will be used to construct the KDE. Returns the result of the below equation:\n",
    "    \n",
    "$ KDE(x) = \\frac{1}{N} \\sum\\limits_{i = 1}^{N} \\phi (x - x_i) $\n",
    "\n",
    "Where $\\phi$ is the pdf of a normal distribution with mean 0 and $\\sigma = $ the KDE Bandwidth (Default value is 5)"
   ]
  },
  {
   "cell_type": "code",
   "execution_count": 246,
   "metadata": {},
   "outputs": [],
   "source": [
    "#_______________________________________________________________________________\n",
    "# KDE\n",
    "class KDE_Naive_Bayes:\n",
    "    \n",
    "    # In KDE, we take the list of data points for each attribute in each class\n",
    "    # and store them for use when classifying new instances\n",
    "    def train(self, filepath):\n",
    "\n",
    "        # Fetch the training data\n",
    "        data = preprocess(filepath)\n",
    "        attr_class_dict = {}\n",
    "        self.data = data\n",
    "        # For each class\n",
    "        for _class in self.data.index.unique():\n",
    "            \n",
    "            # Subset the data to that class\n",
    "            subset = data[data.index == _class]\n",
    "\n",
    "            # For each attribute\n",
    "            for attr in data.columns:\n",
    "                # Designate the data points for that attribute\n",
    "                attr_class_dict[(_class, attr)] = subset[attr].tolist()\n",
    "            \n",
    "        # Add the dictionary as an attribute\n",
    "        self.attr_class_dict = attr_class_dict\n",
    "        \n",
    "        # As with Gaussian Naive Bayes, We will also need the prior \n",
    "        # probabilities for each class\n",
    "        n_instances = len(data)\n",
    "        priors = {}\n",
    "\n",
    "        for _class in data.index.unique():\n",
    "            priors[_class] = len(data[data.index == _class])/n_instances\n",
    "        \n",
    "        self.priors = priors\n",
    "\n",
    "        # Finally we will store the attribute names\n",
    "        self.columns = data.columns\n",
    "     \n",
    "    # Predicts a class for a single instance\n",
    "    def predict(self, instance):\n",
    "        # Initially our max probability and class values have not been assigned\n",
    "        max_prob = None\n",
    "        max_class = None\n",
    "        data = self.data\n",
    "        \n",
    "        # Cycle through and evaluate each possible class\n",
    "        for _class in data.index.unique():\n",
    "            \n",
    "            # Initialise the probability for this class with the first term,\n",
    "            # log(P(class))\n",
    "            prior = self.priors[_class]\n",
    "            prob = log(prior)\n",
    "            # For each attribute\n",
    "            attr_index = 0\n",
    "            for attr in instance:\n",
    "                \n",
    "                # Fetch the data points for this attribute/class combination\n",
    "                data_points = data[data.index == _class][self.columns[attr_index]]\n",
    "            \n",
    "                # Calculate the KDE for that attribute value and add it to our prob\n",
    "                score = self._KDE(attr, data_points)\n",
    "                \n",
    "                # Guard against log(0)\n",
    "                if score != 0:\n",
    "                    prob += log(score)\n",
    "                # If the prob was 0, just take an arbitrary high negative value to simulate the log(0)\n",
    "                else:\n",
    "                    prob -= 10000\n",
    "                \n",
    "                \n",
    "                # Move on to the next attribute\n",
    "                attr_index += 1\n",
    "            \n",
    "            # Once all attributes have been examined,\n",
    "            # If this is the first class we've looked at or if this is a new maximum\n",
    "            if (not max_prob) or (max_prob and (prob > max_prob)):\n",
    "                # Reassign the new maximum value and class\n",
    "                max_prob = prob\n",
    "                max_class = _class\n",
    "                \n",
    "        # Return the predicted class\n",
    "        return max_class\n",
    "    \n",
    "    # Takes a set of data points, an x value and optionally a bandwidth value, and\n",
    "    # returns the KDE likelihood of that x value\n",
    "    def _KDE(self, x, data_points, bandwidth = 5):\n",
    "        N = len(data_points)\n",
    "        _sum = 0\n",
    "        for i in range(len(data_points)):\n",
    "            # Ignore NaN values\n",
    "            if (not np.isnan(data_points[i])) and (not np.isnan(x)):\n",
    "                diff = x - data_points[i]\n",
    "                _sum += norm.pdf(diff, 0, bandwidth)\n",
    "        \n",
    "        return _sum/N\n",
    "    \n",
    "    # Returns a string representation identifying this classifier\n",
    "    def get_name(self):\n",
    "        return \"KDE\""
   ]
  },
  {
   "cell_type": "markdown",
   "metadata": {},
   "source": [
    "## Part 3 - Evaluating the models\n",
    "Now lets have a look at how well our respective models perform, first we will define some baseline classifiers"
   ]
  },
  {
   "cell_type": "code",
   "execution_count": 247,
   "metadata": {},
   "outputs": [],
   "source": [
    "#_______________________________________________________________________________\n",
    "# Zero R Classifier\n",
    "class Zero_R_Classifier:\n",
    "    def train(self,filepath):\n",
    "        data = preprocess(filepath)\n",
    "        # Work out the most common class and set it as our rule\n",
    "        priors = {}\n",
    "        for _class in data.index.unique():\n",
    "            priors[_class] = len(data[data.index == _class])/len(data)\n",
    "        \n",
    "        max_prior = 0\n",
    "        max_prior_class = None\n",
    "        for _class in list(priors):\n",
    "            if priors[_class] >= max_prior:\n",
    "                max_prior = priors[_class]\n",
    "                max_prior_class = _class\n",
    "        self.rule = max_prior_class\n",
    "\n",
    "    def predict(self, instance):\n",
    "        return self.rule\n",
    "    \n",
    "    # Returns a string representation identifying this classifier\n",
    "    def get_name(self):\n",
    "        return \"Zero_R\"\n",
    "#_______________________________________________________________________________\n",
    "# Random Baseline\n",
    "\n",
    "# Will make random guesses based on the class distribution in the training set\n",
    "class Random_Classifier:\n",
    "    def train(self,filepath):\n",
    "        data = preprocess(filepath)\n",
    "        # Work out the most common class and set it as our rule\n",
    "        self.class_labels = data.index.unique()\n",
    "        ordered_priors = []\n",
    "        for _class in self.class_labels:\n",
    "            ordered_priors.append(len(data[data.index == _class])/len(data))\n",
    "            \n",
    "        self.ordered_priors = ordered_priors\n",
    "\n",
    "    def predict(self, instance):\n",
    "        choice = np.random.choice(self.class_labels, 1, self.ordered_priors)[0]\n",
    "        return choice\n",
    "    \n",
    "    # Returns a string representation identifying this classifier\n",
    "    def get_name(self):\n",
    "        return \"Random\""
   ]
  },
  {
   "cell_type": "markdown",
   "metadata": {},
   "source": [
    "### Confusion Matrices\n",
    "A confusion matrix will be our primary means of identifying performance, as all true/positive false/negative values can be derived from it. Once generated, this matrix will be passed through various evaluation functions. Below is the code to generate a confusion matrix for a model, and some functions to calculate TP, FP and FN values."
   ]
  },
  {
   "cell_type": "code",
   "execution_count": 248,
   "metadata": {},
   "outputs": [],
   "source": [
    "# Evaluating Performance\n",
    "#\n",
    "#_______________________________________________________________________________\n",
    "# Confusion matrix\n",
    "\n",
    "# Takes a list of attribute names, predictions made and a list of true class \n",
    "# labels\n",
    "# Returns a confusion matrix (pandas dataframe) representing the model's \n",
    "# performance\n",
    "def create_cmatrix(attribute_names, predictions, true_labels):\n",
    "    attribute_names = pd.Index(attribute_names)\n",
    "    \n",
    "    # Initialise the matrix with zeroes\n",
    "    zeros = np.zeros(shape=(len(attribute_names),len(attribute_names)))\n",
    "    df = pd.DataFrame(zeros, columns= attribute_names).set_index(attribute_names)\n",
    "    \n",
    "    # Add the frequency of each predicted/actual pair to the matrix\n",
    "    for i in range(len(predictions)):\n",
    "        df[predictions[i]][true_labels[i]] += 1\n",
    "        \n",
    "    # Accuracy is sum(np.diag(df))/len(predictions)\n",
    "    return df\n",
    "\n",
    "#_______________________________________________________________________________\n",
    "# Identifying positive and negative results\n",
    "\n",
    "# True positives - Number of times we predicted this class and were correct \n",
    "def true_pos(cmatrix, _class):\n",
    "    return cmatrix[_class][_class]\n",
    "\n",
    "# False Positives - Number of times we predicted this class and were wrong\n",
    "def false_pos(cmatrix, _class):\n",
    "    return sum(cmatrix[_class]) - true_pos(cmatrix, _class)\n",
    "\n",
    "# False negatives, how many times was it actually this class but we guessed\n",
    "# something else\n",
    "def false_neg(cmatrix, _class):\n",
    "    # Actual classes are the rows in our cmatrix\n",
    "    return sum(cmatrix.loc[_class, :]) - true_pos(cmatrix, _class)\n",
    "\n",
    "# Precision = TP / (TP + FP)\n",
    "# Recall = TP / (TP + FN)\n",
    "def class_precision(cmatrix, _class):\n",
    "    \n",
    "    _TP = true_pos(cmatrix,_class)\n",
    "    \n",
    "    _FP = false_pos(cmatrix,_class)\n",
    "    if (_TP + _FP) != 0:\n",
    "        return _TP / (_TP + _FP)\n",
    "    else:\n",
    "        return 0\n",
    "\n",
    "def class_recall(cmatrix, _class):\n",
    "\n",
    "    _TP = true_pos(cmatrix,_class)\n",
    "\n",
    "    _FN = false_neg(cmatrix, _class)\n",
    "    \n",
    "    if (_TP + _FN) != 0:\n",
    "        return _TP / (_TP + _FN)\n",
    "    else:\n",
    "        return 0\n"
   ]
  },
  {
   "cell_type": "markdown",
   "metadata": {},
   "source": [
    "### Multiclass Evaluation Methods (Question 1)\n",
    "Below are several methods for calculating precision and recall for our multiclass model"
   ]
  },
  {
   "cell_type": "code",
   "execution_count": 249,
   "metadata": {},
   "outputs": [],
   "source": [
    "#_______________________________________________________________________________\n",
    "# Producing (Precision, Recall) tuples for multiclass evaluation\n",
    "\n",
    "# Macro-averaging: calculate P,R per class and take mean\n",
    "def macro_average(cmatrix):\n",
    "    precision_sum = 0\n",
    "    recall_sum = 0\n",
    "    for _class in cmatrix.columns:\n",
    "        precision_sum += class_precision(cmatrix, _class)\n",
    "        recall_sum += class_recall(cmatrix, _class)\n",
    "    return (precision_sum/len(cmatrix), recall_sum/len(cmatrix))\n",
    "\n",
    "# Micro-averaging: combine all instances into one pool:\n",
    "#     Precision = sum(TP)/sum(TP + FP)\n",
    "#     Recall = sum(TP)/sum(TP + FN)\n",
    "def micro_average(cmatrix):\n",
    "    tp_sum = 0\n",
    "    tp_fp_sum = 0\n",
    "    tp_fn_sum = 0\n",
    "    for _class in cmatrix.columns:\n",
    "        tp = true_pos(cmatrix,_class)\n",
    "        tp_sum += tp\n",
    "        tp_fp_sum += tp + false_pos(cmatrix,_class)\n",
    "        tp_fn_sum += tp + false_neg(cmatrix, _class)\n",
    "        \n",
    "    return (tp_sum/tp_fp_sum, tp_sum/tp_fn_sum)\n",
    "\n",
    "# Weighted averaging: calculate P,R per class and take mean, weighted by\n",
    "# proportion of instances in that class\n",
    "def weighted_average(cmatrix):\n",
    "    n_instances = sum(cmatrix.sum())\n",
    "    precision = 0\n",
    "    recall = 0\n",
    "    # For each row of actual values\n",
    "    for _class in cmatrix.columns:\n",
    "            # Extract the actual number of instances of this class in the\n",
    "            # test set\n",
    "            values = cmatrix.loc[_class]\n",
    "            # Divide through by the total number of instances to get the\n",
    "            # class proportion\n",
    "            class_proportion = values.sum()/n_instances\n",
    "            \n",
    "            # Scale the precision and recall for this class by the class\n",
    "            # proportion\n",
    "            precision += class_proportion * class_precision(cmatrix, _class)\n",
    "            recall += class_proportion * class_recall(cmatrix, _class)\n",
    "    return (precision, recall)\n",
    "\n"
   ]
  },
  {
   "cell_type": "markdown",
   "metadata": {},
   "source": [
    "### Evaluate()\n",
    "In light of the versatility and usefulness of confusion matrices, our evaluate function will simply run a given model against some test data and return only the confusion matrix produced during the test"
   ]
  },
  {
   "cell_type": "code",
   "execution_count": 250,
   "metadata": {},
   "outputs": [],
   "source": [
    "#_______________________________________________________________________________\n",
    "# Overall evaluation\n",
    "\n",
    "# Takes a Classifier and a filepath to a test set (eg. \"test.csv\") and returns\n",
    "# a confusion matrix representing the model's performance\n",
    "def evaluate(model, filepath):\n",
    "    true_labels = preprocess(filepath).index\n",
    "    predictions = predict_set(model, filepath)\n",
    "    # Establish which attributes come up in this test\n",
    "    attributes_seen = list(set(true_labels.unique().tolist() + predictions))\n",
    "\n",
    "    cmatrix = create_cmatrix(attributes_seen, predictions, true_labels)\n",
    "    \n",
    "    return cmatrix"
   ]
  },
  {
   "cell_type": "markdown",
   "metadata": {},
   "source": [
    "### Graphing results\n",
    "Below are several functions used to produce comparisons and graphical representations of the data"
   ]
  },
  {
   "cell_type": "code",
   "execution_count": 271,
   "metadata": {},
   "outputs": [],
   "source": [
    "#_______________________________________________________________________________\n",
    "# Functions for graphics\n",
    "def get_heatmap(model_name, cmatrix):\n",
    "    plt.tight_layout()\n",
    "    sns.heatmap(cmatrix, annot=True, fmt=\"g\", cmap='viridis')\n",
    "    plt.xlabel(\"Predicted Class\")\n",
    "    plt.ylabel(\"Actual Class\")\n",
    "    #plt.title(f\"Confusion Heatmap: {model_name}\")\n",
    "    plt.savefig(f'results/confusion_heatmap_{model_name}.jpg', bbox_inches='tight')\n",
    "    plt.clf()\n",
    "    \n",
    "def multiclass_precision_recall(model_name, cmatrix):\n",
    "    macro = macro_average(cmatrix)\n",
    "    micro = micro_average(cmatrix)\n",
    "    weighted = weighted_average(cmatrix)\n",
    "    # weighted = weighted_average(cmatrix)\n",
    "    labels = [\"macro averaged result: \", \"micro averaged result: \", \"weighted\\n average result: \"]\n",
    "    evals = [macro,micro, weighted]\n",
    "    \n",
    "    fig, ax = plt.subplots()\n",
    "    \n",
    "    ax.set_xlabel(\"Precision\")\n",
    "    x = [_eval[0] for _eval in evals]\n",
    "    \n",
    "    ax.set_ylabel(\"Recall\")\n",
    "    y = [_eval[1] for _eval in evals]\n",
    "    \n",
    "    ax.scatter(x,y, s = 20)\n",
    "    \n",
    "    \n",
    "    # Annotate the plot (Some fmagic numbers here to help fit the annotations on the graph)\n",
    "    ax.annotate(f\"{labels[0]}({round(macro[0],2)},{round(macro[1],2)})\", \\\n",
    "                    (macro[0] + 0.001, macro[1]))\n",
    "    ax.annotate(f\"{labels[1]}({round(micro[0],2)},{round(micro[1],2)})\", \\\n",
    "                    (micro[0]- 0.017, micro[1] - 0.0001))\n",
    "    ax.annotate(f\"{labels[2]}({round(weighted[0],2)},{round(weighted[1],2)})\", \\\n",
    "                    (weighted[0] - 0.005, weighted[1] - 0.0008))\n",
    "    \n",
    "    plt.savefig(f\"results/multiclass_eval_scatter_{model_name}.jpg\", bbox_inches = 'tight')\n",
    "    plt.clf()\n",
    "    return\n",
    "\n",
    "# Takes two confusion matrices with model names and generates a bar chart\n",
    "# to evaluate recall over different classes\n",
    "def generate_recall_comparison(name1, cmatrix1, name2, cmatrix2):\n",
    "    # define labels and results\n",
    "    labels = cmatrix1.columns.tolist()\n",
    "    results1 = []\n",
    "    results2 = []\n",
    "    \n",
    "    for column in labels:\n",
    "        results1.append(class_recall(cmatrix1, column))\n",
    "        results2.append(class_recall(cmatrix2, column))\n",
    "        \n",
    "    x = np.arange(len(labels))  # the label locations\n",
    "    width = 0.35  # the width of the bars\n",
    "\n",
    "    fig, ax = plt.subplots()\n",
    "    # Define space for the bars to live\n",
    "    rects1 = ax.bar(x - width/2, results1, width, label= name1)\n",
    "    rects2 = ax.bar(x + width/2, results2, width, label= name2)\n",
    "              \n",
    "    # Add some text for labels, title and custom x-axis tick labels, etc.\n",
    "    ax.set_ylabel('Recall')\n",
    "    ax.set_title(f'Recall over individual classes')\n",
    "    ax.set_xticks(x)\n",
    "    ax.set_xticklabels(labels, rotation = \"vertical\")\n",
    "    ax.legend()\n",
    "    \n",
    "    \n",
    "    fig.tight_layout()\n",
    "    plt.savefig(f'results/Recall_comparison_{name1}_{name2}.jpg', bbox_inches='tight')\n",
    "    plt.show()\n",
    "    plt.clf()\n",
    "    \n",
    "# Takes two confusion matrices with model names and generates a bar chart\n",
    "# to evaluate recall over different classes\n",
    "def generate_precision_comparison(name1, cmatrix1, name2, cmatrix2):\n",
    "    # define labels and results\n",
    "    labels = cmatrix1.columns.tolist()\n",
    "    results1 = []\n",
    "    results2 = []\n",
    "    \n",
    "    for column in labels:\n",
    "        results1.append(class_precision(cmatrix1, column))\n",
    "        results2.append(class_precision(cmatrix2, column))\n",
    "        \n",
    "    x = np.arange(len(labels))  # the label locations\n",
    "    width = 0.35  # the width of the bars\n",
    "\n",
    "    fig, ax = plt.subplots()\n",
    "    # Define space for the bars to live\n",
    "    rects1 = ax.bar(x - width/2, results1, width, label= name1)\n",
    "    rects2 = ax.bar(x + width/2, results2, width, label= name2)\n",
    "              \n",
    "    # Add some text for labels, title and custom x-axis tick labels, etc.\n",
    "    ax.set_ylabel('Precision')\n",
    "    ax.set_title(f'Precision over individual classes')\n",
    "    ax.set_xticks(x)\n",
    "    ax.set_xticklabels(labels, rotation = \"vertical\")\n",
    "    ax.legend()\n",
    "    \n",
    "    \n",
    "    fig.tight_layout()\n",
    "    plt.savefig(f'results/Precision_comparison_{name1}_{name2}.jpg', bbox_inches='tight')\n",
    "    plt.show()\n",
    "    plt.clf()\n",
    "    \n",
    "#_________________________________________________________________________\n",
    "# Tool for rendering pandas dataframes as tables,\n",
    "# Code here is taken from stack overflow user volodymyr\n",
    "# https://stackoverflow.com/questions/19726663/how-to-save-the-pandas-dataframe-series-data-as-a-figure\n",
    "def render_mpl_table(data, col_width=3.0, row_height=0.625, font_size=14,\n",
    "                     header_color='#40466e', row_colors=['#f1f1f2', 'w'], edge_color='w',\n",
    "                     bbox=[0, 0, 1, 1], header_columns=0,\n",
    "                     ax=None, **kwargs):\n",
    "    if ax is None:\n",
    "        size = (np.array(data.shape[::-1]) + np.array([0, 1])) * np.array([col_width, row_height])\n",
    "        fig, ax = plt.subplots(figsize=size)\n",
    "        ax.axis('off')\n",
    "    mpl_table = ax.table(cellText=data.values, bbox=bbox, colLabels=data.columns, **kwargs)\n",
    "    mpl_table.auto_set_font_size(False)\n",
    "    mpl_table.set_fontsize(font_size)\n",
    "\n",
    "    for k, cell in mpl_table._cells.items():\n",
    "        cell.set_edgecolor(edge_color)\n",
    "        if k[0] == 0 or k[1] < header_columns:\n",
    "            cell.set_text_props(weight='bold', color='w')\n",
    "            cell.set_facecolor(header_color)\n",
    "        else:\n",
    "            cell.set_facecolor(row_colors[k[0]%len(row_colors) ])\n",
    "    return ax.get_figure(), ax\n"
   ]
  },
  {
   "cell_type": "markdown",
   "metadata": {},
   "source": [
    "## Part 4: Tests / Running the models\n",
    "Here we will actually construct some instances of our test models and use them to create some data for analysis"
   ]
  },
  {
   "cell_type": "code",
   "execution_count": 252,
   "metadata": {},
   "outputs": [],
   "source": [
    "# Instantiate the models\n",
    "nb = Gaussian_Naive_Bayes()\n",
    "kde = KDE_Naive_Bayes()\n",
    "zero_R = Zero_R_Classifier()\n",
    "rc = Random_Classifier()\n",
    "\n",
    "models = [nb, kde, zero_R, rc ]"
   ]
  },
  {
   "cell_type": "code",
   "execution_count": 253,
   "metadata": {},
   "outputs": [],
   "source": [
    "# Train the models\n",
    "for model in models:\n",
    "    model.train(\"train.csv\")\n"
   ]
  },
  {
   "cell_type": "code",
   "execution_count": 283,
   "metadata": {
    "scrolled": false
   },
   "outputs": [
    {
     "ename": "KeyboardInterrupt",
     "evalue": "",
     "output_type": "error",
     "traceback": [
      "\u001b[1;31m---------------------------------------------------------------------------\u001b[0m",
      "\u001b[1;31mKeyboardInterrupt\u001b[0m                         Traceback (most recent call last)",
      "\u001b[1;32m<ipython-input-283-5fd2769878ec>\u001b[0m in \u001b[0;36m<module>\u001b[1;34m\u001b[0m\n\u001b[0;32m     11\u001b[0m \u001b[1;33m\u001b[0m\u001b[0m\n\u001b[0;32m     12\u001b[0m     \u001b[1;31m# Run the predictions and fetch a confusion matrix\u001b[0m\u001b[1;33m\u001b[0m\u001b[1;33m\u001b[0m\u001b[1;33m\u001b[0m\u001b[0m\n\u001b[1;32m---> 13\u001b[1;33m     \u001b[0mcmatrices\u001b[0m\u001b[1;33m.\u001b[0m\u001b[0mappend\u001b[0m\u001b[1;33m(\u001b[0m\u001b[0mevaluate\u001b[0m\u001b[1;33m(\u001b[0m\u001b[0mmodel\u001b[0m\u001b[1;33m,\u001b[0m \u001b[1;34m\"test.csv\"\u001b[0m\u001b[1;33m)\u001b[0m\u001b[1;33m)\u001b[0m\u001b[1;33m\u001b[0m\u001b[1;33m\u001b[0m\u001b[0m\n\u001b[0m\u001b[0;32m     14\u001b[0m \u001b[1;33m\u001b[0m\u001b[0m\n\u001b[0;32m     15\u001b[0m     \u001b[1;31m# Log the end time\u001b[0m\u001b[1;33m\u001b[0m\u001b[1;33m\u001b[0m\u001b[1;33m\u001b[0m\u001b[0m\n",
      "\u001b[1;32m<ipython-input-250-1899af6e4e82>\u001b[0m in \u001b[0;36mevaluate\u001b[1;34m(model, filepath)\u001b[0m\n\u001b[0;32m      6\u001b[0m \u001b[1;32mdef\u001b[0m \u001b[0mevaluate\u001b[0m\u001b[1;33m(\u001b[0m\u001b[0mmodel\u001b[0m\u001b[1;33m,\u001b[0m \u001b[0mfilepath\u001b[0m\u001b[1;33m)\u001b[0m\u001b[1;33m:\u001b[0m\u001b[1;33m\u001b[0m\u001b[1;33m\u001b[0m\u001b[0m\n\u001b[0;32m      7\u001b[0m     \u001b[0mtrue_labels\u001b[0m \u001b[1;33m=\u001b[0m \u001b[0mpreprocess\u001b[0m\u001b[1;33m(\u001b[0m\u001b[0mfilepath\u001b[0m\u001b[1;33m)\u001b[0m\u001b[1;33m.\u001b[0m\u001b[0mindex\u001b[0m\u001b[1;33m\u001b[0m\u001b[1;33m\u001b[0m\u001b[0m\n\u001b[1;32m----> 8\u001b[1;33m     \u001b[0mpredictions\u001b[0m \u001b[1;33m=\u001b[0m \u001b[0mpredict_set\u001b[0m\u001b[1;33m(\u001b[0m\u001b[0mmodel\u001b[0m\u001b[1;33m,\u001b[0m \u001b[0mfilepath\u001b[0m\u001b[1;33m)\u001b[0m\u001b[1;33m\u001b[0m\u001b[1;33m\u001b[0m\u001b[0m\n\u001b[0m\u001b[0;32m      9\u001b[0m     \u001b[1;31m# Establish which attributes come up in this test\u001b[0m\u001b[1;33m\u001b[0m\u001b[1;33m\u001b[0m\u001b[1;33m\u001b[0m\u001b[0m\n\u001b[0;32m     10\u001b[0m     \u001b[0mattributes_seen\u001b[0m \u001b[1;33m=\u001b[0m \u001b[0mlist\u001b[0m\u001b[1;33m(\u001b[0m\u001b[0mset\u001b[0m\u001b[1;33m(\u001b[0m\u001b[0mtrue_labels\u001b[0m\u001b[1;33m.\u001b[0m\u001b[0munique\u001b[0m\u001b[1;33m(\u001b[0m\u001b[1;33m)\u001b[0m\u001b[1;33m.\u001b[0m\u001b[0mtolist\u001b[0m\u001b[1;33m(\u001b[0m\u001b[1;33m)\u001b[0m \u001b[1;33m+\u001b[0m \u001b[0mpredictions\u001b[0m\u001b[1;33m)\u001b[0m\u001b[1;33m)\u001b[0m\u001b[1;33m\u001b[0m\u001b[1;33m\u001b[0m\u001b[0m\n",
      "\u001b[1;32m<ipython-input-244-d1784534d7c3>\u001b[0m in \u001b[0;36mpredict_set\u001b[1;34m(model, filepath)\u001b[0m\n\u001b[0;32m     14\u001b[0m     \u001b[1;32mfor\u001b[0m \u001b[0minstance\u001b[0m \u001b[1;32min\u001b[0m \u001b[1;33m[\u001b[0m\u001b[0mtest\u001b[0m\u001b[1;33m.\u001b[0m\u001b[0miloc\u001b[0m\u001b[1;33m[\u001b[0m\u001b[0mi\u001b[0m\u001b[1;33m]\u001b[0m \u001b[1;32mfor\u001b[0m \u001b[0mi\u001b[0m \u001b[1;32min\u001b[0m \u001b[0mrange\u001b[0m\u001b[1;33m(\u001b[0m\u001b[0mlen\u001b[0m\u001b[1;33m(\u001b[0m\u001b[0mtest\u001b[0m\u001b[1;33m)\u001b[0m\u001b[1;33m)\u001b[0m\u001b[1;33m]\u001b[0m\u001b[1;33m:\u001b[0m\u001b[1;33m\u001b[0m\u001b[1;33m\u001b[0m\u001b[0m\n\u001b[0;32m     15\u001b[0m         \u001b[1;31m# Predict the result and add it to predictions\u001b[0m\u001b[1;33m\u001b[0m\u001b[1;33m\u001b[0m\u001b[1;33m\u001b[0m\u001b[0m\n\u001b[1;32m---> 16\u001b[1;33m         \u001b[0mpredictions\u001b[0m\u001b[1;33m.\u001b[0m\u001b[0mappend\u001b[0m\u001b[1;33m(\u001b[0m\u001b[0mmodel\u001b[0m\u001b[1;33m.\u001b[0m\u001b[0mpredict\u001b[0m\u001b[1;33m(\u001b[0m\u001b[0minstance\u001b[0m\u001b[1;33m)\u001b[0m\u001b[1;33m)\u001b[0m\u001b[1;33m\u001b[0m\u001b[1;33m\u001b[0m\u001b[0m\n\u001b[0m\u001b[0;32m     17\u001b[0m \u001b[1;33m\u001b[0m\u001b[0m\n\u001b[0;32m     18\u001b[0m     \u001b[1;32mreturn\u001b[0m \u001b[0mpredictions\u001b[0m\u001b[1;33m\u001b[0m\u001b[1;33m\u001b[0m\u001b[0m\n",
      "\u001b[1;32m<ipython-input-246-1952f5e16716>\u001b[0m in \u001b[0;36mpredict\u001b[1;34m(self, instance)\u001b[0m\n\u001b[0;32m     60\u001b[0m \u001b[1;33m\u001b[0m\u001b[0m\n\u001b[0;32m     61\u001b[0m                 \u001b[1;31m# Calculate the KDE for that attribute value and add it to our prob\u001b[0m\u001b[1;33m\u001b[0m\u001b[1;33m\u001b[0m\u001b[1;33m\u001b[0m\u001b[0m\n\u001b[1;32m---> 62\u001b[1;33m                 \u001b[0mscore\u001b[0m \u001b[1;33m=\u001b[0m \u001b[0mself\u001b[0m\u001b[1;33m.\u001b[0m\u001b[0m_KDE\u001b[0m\u001b[1;33m(\u001b[0m\u001b[0mattr\u001b[0m\u001b[1;33m,\u001b[0m \u001b[0mdata_points\u001b[0m\u001b[1;33m)\u001b[0m\u001b[1;33m\u001b[0m\u001b[1;33m\u001b[0m\u001b[0m\n\u001b[0m\u001b[0;32m     63\u001b[0m \u001b[1;33m\u001b[0m\u001b[0m\n\u001b[0;32m     64\u001b[0m                 \u001b[1;31m# Guard against log(0)\u001b[0m\u001b[1;33m\u001b[0m\u001b[1;33m\u001b[0m\u001b[1;33m\u001b[0m\u001b[0m\n",
      "\u001b[1;32m<ipython-input-246-1952f5e16716>\u001b[0m in \u001b[0;36m_KDE\u001b[1;34m(self, x, data_points, bandwidth)\u001b[0m\n\u001b[0;32m     92\u001b[0m             \u001b[1;32mif\u001b[0m \u001b[1;33m(\u001b[0m\u001b[1;32mnot\u001b[0m \u001b[0mnp\u001b[0m\u001b[1;33m.\u001b[0m\u001b[0misnan\u001b[0m\u001b[1;33m(\u001b[0m\u001b[0mdata_points\u001b[0m\u001b[1;33m[\u001b[0m\u001b[0mi\u001b[0m\u001b[1;33m]\u001b[0m\u001b[1;33m)\u001b[0m\u001b[1;33m)\u001b[0m \u001b[1;32mand\u001b[0m \u001b[1;33m(\u001b[0m\u001b[1;32mnot\u001b[0m \u001b[0mnp\u001b[0m\u001b[1;33m.\u001b[0m\u001b[0misnan\u001b[0m\u001b[1;33m(\u001b[0m\u001b[0mx\u001b[0m\u001b[1;33m)\u001b[0m\u001b[1;33m)\u001b[0m\u001b[1;33m:\u001b[0m\u001b[1;33m\u001b[0m\u001b[1;33m\u001b[0m\u001b[0m\n\u001b[0;32m     93\u001b[0m                 \u001b[0mdiff\u001b[0m \u001b[1;33m=\u001b[0m \u001b[0mx\u001b[0m \u001b[1;33m-\u001b[0m \u001b[0mdata_points\u001b[0m\u001b[1;33m[\u001b[0m\u001b[0mi\u001b[0m\u001b[1;33m]\u001b[0m\u001b[1;33m\u001b[0m\u001b[1;33m\u001b[0m\u001b[0m\n\u001b[1;32m---> 94\u001b[1;33m                 \u001b[0m_sum\u001b[0m \u001b[1;33m+=\u001b[0m \u001b[0mnorm\u001b[0m\u001b[1;33m.\u001b[0m\u001b[0mpdf\u001b[0m\u001b[1;33m(\u001b[0m\u001b[0mdiff\u001b[0m\u001b[1;33m,\u001b[0m \u001b[1;36m0\u001b[0m\u001b[1;33m,\u001b[0m \u001b[0mbandwidth\u001b[0m\u001b[1;33m)\u001b[0m\u001b[1;33m\u001b[0m\u001b[1;33m\u001b[0m\u001b[0m\n\u001b[0m\u001b[0;32m     95\u001b[0m \u001b[1;33m\u001b[0m\u001b[0m\n\u001b[0;32m     96\u001b[0m         \u001b[1;32mreturn\u001b[0m \u001b[0m_sum\u001b[0m\u001b[1;33m/\u001b[0m\u001b[0mN\u001b[0m\u001b[1;33m\u001b[0m\u001b[1;33m\u001b[0m\u001b[0m\n",
      "\u001b[1;32mc:\\users\\callu\\appdata\\local\\programs\\python\\python39\\lib\\site-packages\\scipy\\stats\\_distn_infrastructure.py\u001b[0m in \u001b[0;36mpdf\u001b[1;34m(self, x, *args, **kwds)\u001b[0m\n\u001b[0;32m   1840\u001b[0m         \u001b[0mputmask\u001b[0m\u001b[1;33m(\u001b[0m\u001b[0moutput\u001b[0m\u001b[1;33m,\u001b[0m \u001b[1;33m(\u001b[0m\u001b[1;36m1\u001b[0m\u001b[1;33m-\u001b[0m\u001b[0mcond0\u001b[0m\u001b[1;33m)\u001b[0m\u001b[1;33m+\u001b[0m\u001b[0mnp\u001b[0m\u001b[1;33m.\u001b[0m\u001b[0misnan\u001b[0m\u001b[1;33m(\u001b[0m\u001b[0mx\u001b[0m\u001b[1;33m)\u001b[0m\u001b[1;33m,\u001b[0m \u001b[0mself\u001b[0m\u001b[1;33m.\u001b[0m\u001b[0mbadvalue\u001b[0m\u001b[1;33m)\u001b[0m\u001b[1;33m\u001b[0m\u001b[1;33m\u001b[0m\u001b[0m\n\u001b[0;32m   1841\u001b[0m         \u001b[1;32mif\u001b[0m \u001b[0mnp\u001b[0m\u001b[1;33m.\u001b[0m\u001b[0many\u001b[0m\u001b[1;33m(\u001b[0m\u001b[0mcond\u001b[0m\u001b[1;33m)\u001b[0m\u001b[1;33m:\u001b[0m\u001b[1;33m\u001b[0m\u001b[1;33m\u001b[0m\u001b[0m\n\u001b[1;32m-> 1842\u001b[1;33m             \u001b[0mgoodargs\u001b[0m \u001b[1;33m=\u001b[0m \u001b[0margsreduce\u001b[0m\u001b[1;33m(\u001b[0m\u001b[0mcond\u001b[0m\u001b[1;33m,\u001b[0m \u001b[1;33m*\u001b[0m\u001b[1;33m(\u001b[0m\u001b[1;33m(\u001b[0m\u001b[0mx\u001b[0m\u001b[1;33m,\u001b[0m\u001b[1;33m)\u001b[0m\u001b[1;33m+\u001b[0m\u001b[0margs\u001b[0m\u001b[1;33m+\u001b[0m\u001b[1;33m(\u001b[0m\u001b[0mscale\u001b[0m\u001b[1;33m,\u001b[0m\u001b[1;33m)\u001b[0m\u001b[1;33m)\u001b[0m\u001b[1;33m)\u001b[0m\u001b[1;33m\u001b[0m\u001b[1;33m\u001b[0m\u001b[0m\n\u001b[0m\u001b[0;32m   1843\u001b[0m             \u001b[0mscale\u001b[0m\u001b[1;33m,\u001b[0m \u001b[0mgoodargs\u001b[0m \u001b[1;33m=\u001b[0m \u001b[0mgoodargs\u001b[0m\u001b[1;33m[\u001b[0m\u001b[1;33m-\u001b[0m\u001b[1;36m1\u001b[0m\u001b[1;33m]\u001b[0m\u001b[1;33m,\u001b[0m \u001b[0mgoodargs\u001b[0m\u001b[1;33m[\u001b[0m\u001b[1;33m:\u001b[0m\u001b[1;33m-\u001b[0m\u001b[1;36m1\u001b[0m\u001b[1;33m]\u001b[0m\u001b[1;33m\u001b[0m\u001b[1;33m\u001b[0m\u001b[0m\n\u001b[0;32m   1844\u001b[0m             \u001b[0mplace\u001b[0m\u001b[1;33m(\u001b[0m\u001b[0moutput\u001b[0m\u001b[1;33m,\u001b[0m \u001b[0mcond\u001b[0m\u001b[1;33m,\u001b[0m \u001b[0mself\u001b[0m\u001b[1;33m.\u001b[0m\u001b[0m_pdf\u001b[0m\u001b[1;33m(\u001b[0m\u001b[1;33m*\u001b[0m\u001b[0mgoodargs\u001b[0m\u001b[1;33m)\u001b[0m \u001b[1;33m/\u001b[0m \u001b[0mscale\u001b[0m\u001b[1;33m)\u001b[0m\u001b[1;33m\u001b[0m\u001b[1;33m\u001b[0m\u001b[0m\n",
      "\u001b[1;32mc:\\users\\callu\\appdata\\local\\programs\\python\\python39\\lib\\site-packages\\scipy\\stats\\_distn_infrastructure.py\u001b[0m in \u001b[0;36margsreduce\u001b[1;34m(cond, *args)\u001b[0m\n\u001b[0;32m    551\u001b[0m         \u001b[0mnewargs\u001b[0m \u001b[1;33m=\u001b[0m \u001b[1;33m[\u001b[0m\u001b[0mnewargs\u001b[0m\u001b[1;33m,\u001b[0m \u001b[1;33m]\u001b[0m\u001b[1;33m\u001b[0m\u001b[1;33m\u001b[0m\u001b[0m\n\u001b[0;32m    552\u001b[0m     \u001b[0mexpand_arr\u001b[0m \u001b[1;33m=\u001b[0m \u001b[1;33m(\u001b[0m\u001b[0mcond\u001b[0m \u001b[1;33m==\u001b[0m \u001b[0mcond\u001b[0m\u001b[1;33m)\u001b[0m\u001b[1;33m\u001b[0m\u001b[1;33m\u001b[0m\u001b[0m\n\u001b[1;32m--> 553\u001b[1;33m     \u001b[1;32mreturn\u001b[0m \u001b[1;33m[\u001b[0m\u001b[0mnp\u001b[0m\u001b[1;33m.\u001b[0m\u001b[0mextract\u001b[0m\u001b[1;33m(\u001b[0m\u001b[0mcond\u001b[0m\u001b[1;33m,\u001b[0m \u001b[0marr1\u001b[0m \u001b[1;33m*\u001b[0m \u001b[0mexpand_arr\u001b[0m\u001b[1;33m)\u001b[0m \u001b[1;32mfor\u001b[0m \u001b[0marr1\u001b[0m \u001b[1;32min\u001b[0m \u001b[0mnewargs\u001b[0m\u001b[1;33m]\u001b[0m\u001b[1;33m\u001b[0m\u001b[1;33m\u001b[0m\u001b[0m\n\u001b[0m\u001b[0;32m    554\u001b[0m \u001b[1;33m\u001b[0m\u001b[0m\n\u001b[0;32m    555\u001b[0m \u001b[1;33m\u001b[0m\u001b[0m\n",
      "\u001b[1;32mc:\\users\\callu\\appdata\\local\\programs\\python\\python39\\lib\\site-packages\\scipy\\stats\\_distn_infrastructure.py\u001b[0m in \u001b[0;36m<listcomp>\u001b[1;34m(.0)\u001b[0m\n\u001b[0;32m    551\u001b[0m         \u001b[0mnewargs\u001b[0m \u001b[1;33m=\u001b[0m \u001b[1;33m[\u001b[0m\u001b[0mnewargs\u001b[0m\u001b[1;33m,\u001b[0m \u001b[1;33m]\u001b[0m\u001b[1;33m\u001b[0m\u001b[1;33m\u001b[0m\u001b[0m\n\u001b[0;32m    552\u001b[0m     \u001b[0mexpand_arr\u001b[0m \u001b[1;33m=\u001b[0m \u001b[1;33m(\u001b[0m\u001b[0mcond\u001b[0m \u001b[1;33m==\u001b[0m \u001b[0mcond\u001b[0m\u001b[1;33m)\u001b[0m\u001b[1;33m\u001b[0m\u001b[1;33m\u001b[0m\u001b[0m\n\u001b[1;32m--> 553\u001b[1;33m     \u001b[1;32mreturn\u001b[0m \u001b[1;33m[\u001b[0m\u001b[0mnp\u001b[0m\u001b[1;33m.\u001b[0m\u001b[0mextract\u001b[0m\u001b[1;33m(\u001b[0m\u001b[0mcond\u001b[0m\u001b[1;33m,\u001b[0m \u001b[0marr1\u001b[0m \u001b[1;33m*\u001b[0m \u001b[0mexpand_arr\u001b[0m\u001b[1;33m)\u001b[0m \u001b[1;32mfor\u001b[0m \u001b[0marr1\u001b[0m \u001b[1;32min\u001b[0m \u001b[0mnewargs\u001b[0m\u001b[1;33m]\u001b[0m\u001b[1;33m\u001b[0m\u001b[1;33m\u001b[0m\u001b[0m\n\u001b[0m\u001b[0;32m    554\u001b[0m \u001b[1;33m\u001b[0m\u001b[0m\n\u001b[0;32m    555\u001b[0m \u001b[1;33m\u001b[0m\u001b[0m\n",
      "\u001b[1;32m<__array_function__ internals>\u001b[0m in \u001b[0;36mextract\u001b[1;34m(*args, **kwargs)\u001b[0m\n",
      "\u001b[1;32mc:\\users\\callu\\appdata\\local\\programs\\python\\python39\\lib\\site-packages\\numpy\\lib\\function_base.py\u001b[0m in \u001b[0;36mextract\u001b[1;34m(condition, arr)\u001b[0m\n\u001b[0;32m   1698\u001b[0m \u001b[1;33m\u001b[0m\u001b[0m\n\u001b[0;32m   1699\u001b[0m     \"\"\"\n\u001b[1;32m-> 1700\u001b[1;33m     \u001b[1;32mreturn\u001b[0m \u001b[0m_nx\u001b[0m\u001b[1;33m.\u001b[0m\u001b[0mtake\u001b[0m\u001b[1;33m(\u001b[0m\u001b[0mravel\u001b[0m\u001b[1;33m(\u001b[0m\u001b[0marr\u001b[0m\u001b[1;33m)\u001b[0m\u001b[1;33m,\u001b[0m \u001b[0mnonzero\u001b[0m\u001b[1;33m(\u001b[0m\u001b[0mravel\u001b[0m\u001b[1;33m(\u001b[0m\u001b[0mcondition\u001b[0m\u001b[1;33m)\u001b[0m\u001b[1;33m)\u001b[0m\u001b[1;33m[\u001b[0m\u001b[1;36m0\u001b[0m\u001b[1;33m]\u001b[0m\u001b[1;33m)\u001b[0m\u001b[1;33m\u001b[0m\u001b[1;33m\u001b[0m\u001b[0m\n\u001b[0m\u001b[0;32m   1701\u001b[0m \u001b[1;33m\u001b[0m\u001b[0m\n\u001b[0;32m   1702\u001b[0m \u001b[1;33m\u001b[0m\u001b[0m\n",
      "\u001b[1;32m<__array_function__ internals>\u001b[0m in \u001b[0;36mtake\u001b[1;34m(*args, **kwargs)\u001b[0m\n",
      "\u001b[1;32mc:\\users\\callu\\appdata\\local\\programs\\python\\python39\\lib\\site-packages\\numpy\\core\\fromnumeric.py\u001b[0m in \u001b[0;36mtake\u001b[1;34m(a, indices, axis, out, mode)\u001b[0m\n\u001b[0;32m    189\u001b[0m            [5, 7]])\n\u001b[0;32m    190\u001b[0m     \"\"\"\n\u001b[1;32m--> 191\u001b[1;33m     \u001b[1;32mreturn\u001b[0m \u001b[0m_wrapfunc\u001b[0m\u001b[1;33m(\u001b[0m\u001b[0ma\u001b[0m\u001b[1;33m,\u001b[0m \u001b[1;34m'take'\u001b[0m\u001b[1;33m,\u001b[0m \u001b[0mindices\u001b[0m\u001b[1;33m,\u001b[0m \u001b[0maxis\u001b[0m\u001b[1;33m=\u001b[0m\u001b[0maxis\u001b[0m\u001b[1;33m,\u001b[0m \u001b[0mout\u001b[0m\u001b[1;33m=\u001b[0m\u001b[0mout\u001b[0m\u001b[1;33m,\u001b[0m \u001b[0mmode\u001b[0m\u001b[1;33m=\u001b[0m\u001b[0mmode\u001b[0m\u001b[1;33m)\u001b[0m\u001b[1;33m\u001b[0m\u001b[1;33m\u001b[0m\u001b[0m\n\u001b[0m\u001b[0;32m    192\u001b[0m \u001b[1;33m\u001b[0m\u001b[0m\n\u001b[0;32m    193\u001b[0m \u001b[1;33m\u001b[0m\u001b[0m\n",
      "\u001b[1;32mc:\\users\\callu\\appdata\\local\\programs\\python\\python39\\lib\\site-packages\\numpy\\core\\fromnumeric.py\u001b[0m in \u001b[0;36m_wrapfunc\u001b[1;34m(obj, method, *args, **kwds)\u001b[0m\n\u001b[0;32m     56\u001b[0m \u001b[1;33m\u001b[0m\u001b[0m\n\u001b[0;32m     57\u001b[0m     \u001b[1;32mtry\u001b[0m\u001b[1;33m:\u001b[0m\u001b[1;33m\u001b[0m\u001b[1;33m\u001b[0m\u001b[0m\n\u001b[1;32m---> 58\u001b[1;33m         \u001b[1;32mreturn\u001b[0m \u001b[0mbound\u001b[0m\u001b[1;33m(\u001b[0m\u001b[1;33m*\u001b[0m\u001b[0margs\u001b[0m\u001b[1;33m,\u001b[0m \u001b[1;33m**\u001b[0m\u001b[0mkwds\u001b[0m\u001b[1;33m)\u001b[0m\u001b[1;33m\u001b[0m\u001b[1;33m\u001b[0m\u001b[0m\n\u001b[0m\u001b[0;32m     59\u001b[0m     \u001b[1;32mexcept\u001b[0m \u001b[0mTypeError\u001b[0m\u001b[1;33m:\u001b[0m\u001b[1;33m\u001b[0m\u001b[1;33m\u001b[0m\u001b[0m\n\u001b[0;32m     60\u001b[0m         \u001b[1;31m# A TypeError occurs if the object does have such a method in its\u001b[0m\u001b[1;33m\u001b[0m\u001b[1;33m\u001b[0m\u001b[1;33m\u001b[0m\u001b[0m\n",
      "\u001b[1;31mKeyboardInterrupt\u001b[0m: "
     ]
    }
   ],
   "source": [
    "# Run an evaluation on the models\n",
    "names = [model.get_name() for model in models]\n",
    "time_df = pd.DataFrame(columns = [\"Model\", \"Execution Time(seconds)\"])\n",
    "cmatrices = []\n",
    "\n",
    "# First we must collect the relevant confusion matrices for each model.\n",
    "# We will also track the time taken to evaluate the model.\n",
    "for model in models:\n",
    "    # Log the start time\n",
    "    start = time.time()\n",
    "    \n",
    "    # Run the predictions and fetch a confusion matrix\n",
    "    cmatrices.append(evaluate(model, \"test.csv\"))\n",
    "    \n",
    "    # Log the end time\n",
    "    end = time.time()\n",
    "    \n",
    "    # Add the execution time to our time dataframe\n",
    "    time_df.loc[len(time_df)] = [model.get_name(), end - start]\n",
    "    "
   ]
  },
  {
   "cell_type": "code",
   "execution_count": 255,
   "metadata": {},
   "outputs": [
    {
     "data": {
      "image/png": "[encoded data removed]",
      "text/plain": [
       "<Figure size 576x225 with 1 Axes>"
      ]
     },
     "metadata": {
      "needs_background": "light"
     },
     "output_type": "display_data"
    }
   ],
   "source": [
    "# Render and save time results\n",
    "fig,ax = render_mpl_table(time_df, header_columns=0, col_width=4.0)\n",
    "fig.savefig(\"results/time_table.png\")"
   ]
  },
  {
   "cell_type": "code",
   "execution_count": 256,
   "metadata": {},
   "outputs": [
    {
     "data": {
      "text/plain": [
       "<Figure size 432x288 with 0 Axes>"
      ]
     },
     "metadata": {},
     "output_type": "display_data"
    }
   ],
   "source": [
    "# Now we will turn our confusion matrices into some savable figures for analysis:\n",
    "for i in range(len(cmatrices)):\n",
    "    get_heatmap(names[i], cmatrices[i])\n",
    "# These will be saved to our results folder"
   ]
  },
  {
   "cell_type": "code",
   "execution_count": 257,
   "metadata": {},
   "outputs": [
    {
     "data": {
      "image/png": "[encoded data removed]",
      "text/plain": [
       "<Figure size 432x288 with 1 Axes>"
      ]
     },
     "metadata": {
      "needs_background": "light"
     },
     "output_type": "display_data"
    },
    {
     "data": {
      "text/plain": [
       "<Figure size 432x288 with 0 Axes>"
      ]
     },
     "metadata": {},
     "output_type": "display_data"
    },
    {
     "data": {
      "image/png": "[encoded data removed]",
      "text/plain": [
       "<Figure size 432x288 with 1 Axes>"
      ]
     },
     "metadata": {
      "needs_background": "light"
     },
     "output_type": "display_data"
    },
    {
     "data": {
      "text/plain": [
       "<Figure size 432x288 with 0 Axes>"
      ]
     },
     "metadata": {},
     "output_type": "display_data"
    },
    {
     "data": {
      "image/png": "[encoded data removed]",
      "text/plain": [
       "<Figure size 432x288 with 1 Axes>"
      ]
     },
     "metadata": {
      "needs_background": "light"
     },
     "output_type": "display_data"
    },
    {
     "data": {
      "text/plain": [
       "<Figure size 432x288 with 0 Axes>"
      ]
     },
     "metadata": {},
     "output_type": "display_data"
    },
    {
     "data": {
      "image/png": "[encoded data removed]",
      "text/plain": [
       "<Figure size 432x288 with 1 Axes>"
      ]
     },
     "metadata": {
      "needs_background": "light"
     },
     "output_type": "display_data"
    },
    {
     "data": {
      "text/plain": [
       "<Figure size 432x288 with 0 Axes>"
      ]
     },
     "metadata": {},
     "output_type": "display_data"
    },
    {
     "data": {
      "image/png": "[encoded data removed]",
      "text/plain": [
       "<Figure size 432x288 with 1 Axes>"
      ]
     },
     "metadata": {
      "needs_background": "light"
     },
     "output_type": "display_data"
    },
    {
     "data": {
      "text/plain": [
       "<Figure size 432x288 with 0 Axes>"
      ]
     },
     "metadata": {},
     "output_type": "display_data"
    },
    {
     "data": {
      "image/png": "[encoded data removed]",
      "text/plain": [
       "<Figure size 432x288 with 1 Axes>"
      ]
     },
     "metadata": {
      "needs_background": "light"
     },
     "output_type": "display_data"
    },
    {
     "data": {
      "text/plain": [
       "<Figure size 432x288 with 0 Axes>"
      ]
     },
     "metadata": {},
     "output_type": "display_data"
    }
   ],
   "source": [
    "# Generate some comparisons\n",
    "# Gaussian vs KDE\n",
    "generate_recall_comparison(names[1], cmatrices[1], names[0], cmatrices[0])\n",
    "generate_precision_comparison(names[1], cmatrices[1], names[0], cmatrices[0])\n",
    "# zero R vs KDE\n",
    "generate_recall_comparison(names[1], cmatrices[1], names[2], cmatrices[2])\n",
    "generate_precision_comparison(names[1], cmatrices[1], names[2], cmatrices[2])\n",
    "# Random Classifier vs KDE\n",
    "generate_recall_comparison(names[1], cmatrices[1], names[3], cmatrices[3])\n",
    "generate_precision_comparison(names[1], cmatrices[1], names[3], cmatrices[3])\n",
    "\n"
   ]
  },
  {
   "cell_type": "code",
   "execution_count": 258,
   "metadata": {},
   "outputs": [
    {
     "data": {
      "text/plain": [
       "<Figure size 432x288 with 0 Axes>"
      ]
     },
     "metadata": {},
     "output_type": "display_data"
    }
   ],
   "source": [
    "# Create a scatter plot of the various methods for calculating precision, recall\n",
    "# for the Gaussian Naive Bayes\n",
    "multiclass_precision_recall(models[0].get_name(), cmatrices[0])\n"
   ]
  },
  {
   "cell_type": "code",
   "execution_count": 287,
   "metadata": {},
   "outputs": [
    {
     "data": {
      "text/plain": [
       "<Figure size 1152x90 with 0 Axes>"
      ]
     },
     "metadata": {},
     "output_type": "display_data"
    }
   ],
   "source": [
    "# Generate a table of performance stats for our models\n",
    "def generate_performance_stats(cmatrix):\n",
    "    accuracy = sum(np.diag(cmatrix))/sum(cmatrix.sum())\n",
    "    wt_av = weighted_average(cmatrix)\n",
    "    return [100 * accuracy, 100 * wt_av[0], 100 * wt_av[1]]\n",
    "\n",
    "df = pd.DataFrame(columns = [\"Model\", \"Accuracy (%)\", \"Weighted Precision (%)\", \"Weighted Recall (%)\"])\n",
    "df.set_index('Model')\n",
    "for i in range(len(cmatrices)):\n",
    "    row = [models[i].get_name()]\n",
    "    performance_stats = generate_performance_stats(cmatrices[i])\n",
    "    # Round the stats to 3 decimal places\n",
    "    performance_stats = [round(x, 3) for x in performance_stats]\n",
    "    row += performance_stats\n",
    "    df_len = len(df)\n",
    "    df.loc[df_len] = row\n",
    "\n",
    "# Render and save the table\n",
    "fig,ax = render_mpl_table(df, header_columns=0, col_width=4.0)\n",
    "fig.savefig(\"results/stats_table.png\")\n",
    "# Clear pyplot\n",
    "plt.clf()"
   ]
  },
  {
   "cell_type": "code",
   "execution_count": 282,
   "metadata": {},
   "outputs": [
    {
     "data": {
      "text/html": [
       "<div>\n",
       "<style scoped>\n",
       "    .dataframe tbody tr th:only-of-type {\n",
       "        vertical-align: middle;\n",
       "    }\n",
       "\n",
       "    .dataframe tbody tr th {\n",
       "        vertical-align: top;\n",
       "    }\n",
       "\n",
       "    .dataframe thead th {\n",
       "        text-align: right;\n",
       "    }\n",
       "</style>\n",
       "<table border=\"1\" class=\"dataframe\">\n",
       "  <thead>\n",
       "    <tr style=\"text-align: right;\">\n",
       "      <th></th>\n",
       "      <th>Model</th>\n",
       "      <th>Accuracy (%)</th>\n",
       "      <th>Weighted Precision</th>\n",
       "      <th>Weighted Recall</th>\n",
       "    </tr>\n",
       "  </thead>\n",
       "  <tbody>\n",
       "    <tr>\n",
       "      <th>0</th>\n",
       "      <td>Gaussian_NB</td>\n",
       "      <td>71.552</td>\n",
       "      <td>0.726</td>\n",
       "      <td>0.716</td>\n",
       "    </tr>\n",
       "    <tr>\n",
       "      <th>1</th>\n",
       "      <td>KDE</td>\n",
       "      <td>72.414</td>\n",
       "      <td>0.769</td>\n",
       "      <td>0.724</td>\n",
       "    </tr>\n",
       "    <tr>\n",
       "      <th>2</th>\n",
       "      <td>Zero_R</td>\n",
       "      <td>25.862</td>\n",
       "      <td>0.067</td>\n",
       "      <td>0.259</td>\n",
       "    </tr>\n",
       "    <tr>\n",
       "      <th>3</th>\n",
       "      <td>Random</td>\n",
       "      <td>8.621</td>\n",
       "      <td>0.186</td>\n",
       "      <td>0.086</td>\n",
       "    </tr>\n",
       "  </tbody>\n",
       "</table>\n",
       "</div>"
      ],
      "text/plain": [
       "         Model  Accuracy (%)  Weighted Precision  Weighted Recall\n",
       "0  Gaussian_NB        71.552               0.726            0.716\n",
       "1          KDE        72.414               0.769            0.724\n",
       "2       Zero_R        25.862               0.067            0.259\n",
       "3       Random         8.621               0.186            0.086"
      ]
     },
     "execution_count": 282,
     "metadata": {},
     "output_type": "execute_result"
    }
   ],
   "source": [
    "df"
   ]
  }
 ],
 "metadata": {
  "kernelspec": {
   "display_name": "Python 3",
   "language": "python",
   "name": "python3"
  },
  "language_info": {
   "codemirror_mode": {
    "name": "ipython",
    "version": 3
   },
   "file_extension": ".py",
   "mimetype": "text/x-python",
   "name": "python",
   "nbconvert_exporter": "python",
   "pygments_lexer": "ipython3",
   "version": "3.9.2"
  }
 },
 "nbformat": 4,
 "nbformat_minor": 4
}
