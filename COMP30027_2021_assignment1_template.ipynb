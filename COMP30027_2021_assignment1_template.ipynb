{
 "cells": [
  {
   "cell_type": "markdown",
   "metadata": {},
   "source": [
    "###### ### The University of Melbourne, School of Computing and Information Systems\n",
    "# COMP30027 Machine Learning, 2021 Semester 1\n",
    "\n",
    "## Assignment 1: Pose classification with naive Bayes\n"
   ]
  },
  {
   "cell_type": "markdown",
   "metadata": {},
   "source": [
    "**Student ID(s):**     910519\n"
   ]
  },
  {
   "cell_type": "markdown",
   "metadata": {},
   "source": [
    "This iPython notebook is a template which you will use for your Assignment 1 submission.\n",
    "\n",
    "Marking will be applied on the four functions that are defined in this notebook, and to your responses to the questions at the end of this notebook (Submitted in a separate PDF file).\n",
    "\n",
    "**NOTE: YOU SHOULD ADD YOUR RESULTS, DIAGRAMS AND IMAGES FROM YOUR OBSERVATIONS IN THIS FILE TO YOUR REPORT (the PDF file).**\n",
    "\n",
    "You may change the prototypes of these functions, and you may write other functions, according to your requirements. We would appreciate it if the required functions were prominent/easy to find.\n",
    "\n",
    "**Adding proper comments to your code is MANDATORY. **"
   ]
  },
  {
   "cell_type": "code",
   "execution_count": 2,
   "metadata": {},
   "outputs": [],
   "source": [
    "# Import dependencies\n",
    "import numpy as np\n",
    "from collections import defaultdict\n",
    "import pandas as pd"
   ]
  },
  {
   "cell_type": "code",
   "execution_count": null,
   "metadata": {},
   "outputs": [],
   "source": []
  },
  {
   "cell_type": "code",
   "execution_count": 18,
   "metadata": {},
   "outputs": [
    {
     "name": "stdout",
     "output_type": "stream",
     "text": [
      "Our total number of instances is: 747 \n",
      "\n",
      "For class bridge we have 81 instances.\n",
      "For class childs we have 69 instances.\n",
      "For class downwarddog we have 103 instances.\n",
      "For class mountain we have 160 instances.\n",
      "For class plank we have 57 instances.\n",
      "For class seatedforwardbend we have 43 instances.\n",
      "For class tree we have 67 instances.\n",
      "For class trianglepose we have 59 instances.\n",
      "For class warrior1 we have 54 instances.\n",
      "For class warrior2 we have 54 instances.\n"
     ]
    }
   ],
   "source": [
    "# This function should prepare the data by reading it from a file and converting it into a useful format for training and testing\n",
    "# Our preprocessing will return a package of all the useful subsets / formats of the data\n",
    "def preprocess():\n",
    "    \n",
    "    # Open the training data\n",
    "    with open(\"train.csv\", \"r\") as f:\n",
    "        data = f.readlines()\n",
    "    \n",
    "    # Create a 2 dimensional array to store the data.\n",
    "    # We have: [class, x1 (head), x2 (shoulders), x3 (elbowR), x4 (wristR), x5 (elbowL)\n",
    "    #          ,x6 (wristL), x7 (hips), x8 (kneeR), x9 (footR), x10 (kneeL),x11 (footL)\n",
    "    #          ,y1 (head), y2 (shoulders), y3 (elbowR), y4 (wristR), y5 (elbowL), y6 (wristL)\n",
    "    #          ,y7 (hips), y8 (kneeR), y9 (footR), y10 (kneeL), y11 (footL)]\n",
    "    \n",
    "    data_array = [line.strip().split(',') for line in data]\n",
    "    \n",
    "    class_dict = examine_features(data)\n",
    "    # For now we will not clean the data, and assume it will work fine:)\n",
    "    \n",
    "    # Create a dictionary that maps the class names to the entries that are in that class\n",
    "    data_class_split = partition_data_classes(data_array, class_dict)\n",
    "    \n",
    "    # Within each class, find the mean and standard deviation for each attribute \n",
    "    class_summaries = find_gaussian_params(data_class_split)\n",
    "    \n",
    "    return {\"Data\": data_array, \"Class frequencies\": class_dict, \"Partitioned data\": data_class_split, \"Class Summaries\": class_summaries}\n",
    "\n",
    "\n",
    "# Returns a dictionary that maps class labels to a list of (mean, standard deviation) corresponding to each attribute\n",
    "def find_gaussian_params(partitioned_data):\n",
    "    gaussian_dict = {}\n",
    "    # for each class\n",
    "    for _class in list(partitioned_data):\n",
    "        # Take the entries for that class and group them by columns (attributes)\n",
    "        attributes = group_by_column(partitioned_data[_class])\n",
    "        gaussian_dict[_class] = []\n",
    "        # For each attribute excluding the class type\n",
    "        for attribute in attributes[1:]:\n",
    "            # Calculate and store the attribute mean and std deviation\n",
    "            np_array = np.asarray(attribute).astype(float)\n",
    "            gaussian_dict[_class].append((np.mean(np_array), np.std(np_array)))\n",
    "    return gaussian_dict\n",
    "            \n",
    "# Takes a list of instances and returns a 2d array where the ith entry is a list of all the values for that attribute\n",
    "def group_by_column(data_array):\n",
    "    new_array = []\n",
    "    # For each of the attribute positions\n",
    "    for i in range(len(data_array[0])):\n",
    "        column_i = []\n",
    "        # For each of the instances\n",
    "        for j in data_array:\n",
    "            # Append the ith element to the column space\n",
    "            column_i.append(j[i])\n",
    "        # Attach the column to our result array\n",
    "        new_array.append(column_i)\n",
    "    # Return the array now grouped by columns\n",
    "    return new_array\n",
    "            \n",
    "# Returns a dictionary that maps class labels to entries with that label\n",
    "def partition_data_classes(data, class_dict):\n",
    "    result = {}\n",
    "    for _class in list(class_dict):\n",
    "        result[_class] = []\n",
    "        for entry in data:\n",
    "            if (entry[0] == _class):\n",
    "                result[_class].append(entry)\n",
    "    return result\n",
    "    \n",
    "\n",
    "\n",
    "def examine_features(data):\n",
    "    # Examine the data\n",
    "    n_instances = 0\n",
    "    class_dict = defaultdict(int)\n",
    "    for line in data:\n",
    "        n_instances = n_instances + 1\n",
    "        class_dict[line.strip().split(',')[0]] += 1\n",
    "    \n",
    "    print('Our total number of instances is:',n_instances, \"\\n\")\n",
    "\n",
    "    for lbl in class_dict.keys():\n",
    "        print('For class', lbl , 'we have', class_dict[lbl], 'instances.')\n",
    "    \n",
    "    return (n_instances, class_dict)\n",
    "\n",
    "data_processed = preprocess()"
   ]
  },
  {
   "cell_type": "code",
   "execution_count": null,
   "metadata": {},
   "outputs": [],
   "source": [
    "# In order to implement a naive bayes we will need to summarise the data for each class\n",
    "# This will include the mean and standard deviation of each attribute for each class"
   ]
  },
  {
   "cell_type": "code",
   "execution_count": 29,
   "metadata": {},
   "outputs": [],
   "source": [
    "# This function should calculate prior probabilities and likelihoods from the training data and using\n",
    "# them to build a naive Bayes model\n",
    "\n",
    "def train():\n",
    "    # First we will fetch our set of useful data\n",
    "    data = preprocess()\n",
    "    # The priors for each class are P(Class) = class_dict[class]/n\n",
    "    num_instances = data[]\n",
    "    for \n",
    "    # A Naive Bayes Learner will predict the class that maximises the posterior given the attributes seen\n",
    "    # P(class|data) = (P(data|class) * P(class))/P(data)\n",
    "    return"
   ]
  },
  {
   "cell_type": "code",
   "execution_count": null,
   "metadata": {
    "collapsed": true
   },
   "outputs": [],
   "source": [
    "# This function should predict classes for new items in a test dataset (for the purposes of this assignment, you\n",
    "# can re-use the training data as a test set)\n",
    "\n",
    "def predict():\n",
    "    # P(class|data) = P(X|class) * P(class)\n",
    "    \n",
    "    # Load the test data\n",
    "    \n",
    "    test = \n",
    "    return"
   ]
  },
  {
   "cell_type": "code",
   "execution_count": null,
   "metadata": {
    "collapsed": true
   },
   "outputs": [],
   "source": [
    "# This function should evaliate the prediction performance by comparing your model’s class outputs to ground\n",
    "# truth labels\n",
    "\n",
    "def evaluate():\n",
    "    return"
   ]
  },
  {
   "cell_type": "markdown",
   "metadata": {},
   "source": [
    "## Questions \n",
    "\n",
    "\n",
    "If you are in a group of 1, you will respond to **two** questions of your choosing.\n",
    "\n",
    "If you are in a group of 2, you will respond to **four** questions of your choosing.\n",
    "\n",
    "A response to a question should take about 100–250 words, and make reference to the data wherever possible.\n",
    "\n",
    "#### NOTE: you may develope codes or functions to help respond to the question here, but your formal answer should be submitted separately as a PDF."
   ]
  },
  {
   "cell_type": "markdown",
   "metadata": {},
   "source": [
    "### Q1\n",
    "Since this is a multiclass classification problem, there are multiple ways to compute precision, recall, and F-score for this classifier. Implement at least two of the methods from the \"Model Evaluation\" lecture and discuss any differences between them. (The implementation should be your own and should not just call a pre-existing function.)"
   ]
  },
  {
   "cell_type": "code",
   "execution_count": null,
   "metadata": {
    "collapsed": true
   },
   "outputs": [],
   "source": []
  },
  {
   "cell_type": "markdown",
   "metadata": {},
   "source": [
    "### Q2\n",
    "The Gaussian naıve Bayes classifier assumes that numeric attributes come from a Gaussian distribution. Is this assumption always true for the numeric attributes in this dataset? Identify some cases where the Gaussian assumption is violated and describe any evidence (or lack thereof) that this has some effect on the classifier’s predictions."
   ]
  },
  {
   "cell_type": "code",
   "execution_count": null,
   "metadata": {
    "collapsed": true
   },
   "outputs": [],
   "source": []
  },
  {
   "cell_type": "markdown",
   "metadata": {},
   "source": [
    "### Q3\n",
    "Implement a kernel density estimate (KDE) naive Bayes classifier and compare its performance to the Gaussian naive Bayes classifier. Recall that KDE has kernel bandwidth as a free parameter -- you can choose an arbitrary value for this, but a value in the range 5-25 is recommended. Discuss any differences you observe between the Gaussian and KDE naive Bayes classifiers. (As with the Gaussian naive Bayes, this KDE naive Bayes implementation should be your own and should not just call a pre-existing function.)"
   ]
  },
  {
   "cell_type": "code",
   "execution_count": null,
   "metadata": {
    "collapsed": true
   },
   "outputs": [],
   "source": []
  },
  {
   "cell_type": "markdown",
   "metadata": {},
   "source": [
    "### Q4\n",
    "Instead of using an arbitrary kernel bandwidth for the KDE naive Bayes classifier, use random hold-out or cross-validation to choose the kernel bandwidth. Discuss how this changes the model performance compared to using an arbitrary kernel bandwidth."
   ]
  },
  {
   "cell_type": "code",
   "execution_count": null,
   "metadata": {
    "collapsed": true
   },
   "outputs": [],
   "source": []
  },
  {
   "cell_type": "markdown",
   "metadata": {},
   "source": [
    "### Q5\n",
    "Naive Bayes ignores missing values, but in pose recognition tasks the missing values can be informative. Missing values indicate that some part of the body was obscured and sometimes this is relevant to the pose (e.g., holding one hand behind the back). Are missing values useful for this task? Implement a method that incorporates information about missing values and demonstrate whether it changes the classification results."
   ]
  },
  {
   "cell_type": "code",
   "execution_count": null,
   "metadata": {
    "collapsed": true
   },
   "outputs": [],
   "source": []
  },
  {
   "cell_type": "markdown",
   "metadata": {},
   "source": [
    "### Q6\n",
    "Engineer your own pose features from the provided keypoints. Instead of using the (x,y) positions of keypoints, you might consider the angles of the limbs or body, or the distances between pairs of keypoints. How does a naive Bayes classifier based on your engineered features compare to the classifier using (x,y) values? Please note that we are interested in explainable features for pose recognition, so simply putting the (x,y) values in a neural network or similar to get an arbitrary embedding will not receive full credit for this question. You should be able to explain the rationale behind your proposed features. Also, don't forget the conditional independence assumption of naive Bayes when proposing new features -- a large set of highly-correlated features may not work well."
   ]
  },
  {
   "cell_type": "code",
   "execution_count": null,
   "metadata": {
    "collapsed": true
   },
   "outputs": [],
   "source": []
  }
 ],
 "metadata": {
  "kernelspec": {
   "display_name": "Python 3",
   "language": "python",
   "name": "python3"
  },
  "language_info": {
   "codemirror_mode": {
    "name": "ipython",
    "version": 3
   },
   "file_extension": ".py",
   "mimetype": "text/x-python",
   "name": "python",
   "nbconvert_exporter": "python",
   "pygments_lexer": "ipython3",
   "version": "3.9.2"
  }
 },
 "nbformat": 4,
 "nbformat_minor": 4
}
