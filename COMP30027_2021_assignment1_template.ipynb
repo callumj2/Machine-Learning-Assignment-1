{
 "cells": [
  {
   "cell_type": "markdown",
   "metadata": {},
   "source": [
    "###### ### The University of Melbourne, School of Computing and Information Systems\n",
    "# COMP30027 Machine Learning, 2021 Semester 1\n",
    "\n",
    "## Assignment 1: Pose classification with naive Bayes\n"
   ]
  },
  {
   "cell_type": "markdown",
   "metadata": {},
   "source": [
    "**Student ID(s):**     910519\n"
   ]
  },
  {
   "cell_type": "markdown",
   "metadata": {},
   "source": [
    "This iPython notebook is a template which you will use for your Assignment 1 submission.\n",
    "\n",
    "Marking will be applied on the four functions that are defined in this notebook, and to your responses to the questions at the end of this notebook (Submitted in a separate PDF file).\n",
    "\n",
    "**NOTE: YOU SHOULD ADD YOUR RESULTS, DIAGRAMS AND IMAGES FROM YOUR OBSERVATIONS IN THIS FILE TO YOUR REPORT (the PDF file).**\n",
    "\n",
    "You may change the prototypes of these functions, and you may write other functions, according to your requirements. We would appreciate it if the required functions were prominent/easy to find.\n",
    "\n",
    "**Adding proper comments to your code is MANDATORY. **"
   ]
  },
  {
   "cell_type": "code",
   "execution_count": 10,
   "metadata": {},
   "outputs": [],
   "source": [
    "# Import dependencies\n",
    "import numpy as np\n",
    "from collections import defaultdict\n",
    "import pandas as pd"
   ]
  },
  {
   "cell_type": "code",
   "execution_count": null,
   "metadata": {},
   "outputs": [],
   "source": []
  },
  {
   "cell_type": "code",
   "execution_count": 15,
   "metadata": {},
   "outputs": [],
   "source": [
    "# This function should prepare the data by reading it from a file and converting it into a useful format for training and testing\n",
    "# Our preprocessing will return a package of all the useful subsets / formats of the data\n",
    "def preprocess():\n",
    "    # Open the training data, assign 'n.a' to values of 9999\n",
    "    with open(\"train.csv\", \"r\") as f:\n",
    "        header = [\"head_x\", \"shoulders_x\", \"elbowR_x\", \"wristR_x\", \"elbowL_x\", \"wristL_x\", \"hips_x\", \\\n",
    "                 \"kneeR_x\", \"footR_x\", \"kneeL_x\", \"footL_x\", \"head_y\", \"shoulders_y\", \"elbowR_y\", \"wristR_y\", \"elbowL_y\", \\\n",
    "                 \"wristL_y\", \"hips_y\", \"kneeR_y\", \"footR_y\", \"kneeL_y\", \"footL_y\"]\n",
    "        data = pd.read_csv(f,na_values = \"9999\", names = header)\n",
    "    return data\n",
    "    \n"
   ]
  },
  {
   "cell_type": "code",
   "execution_count": null,
   "metadata": {},
   "outputs": [],
   "source": [
    "# In order to implement a naive bayes we will need to summarise the data for each class\n",
    "# This will include the mean and standard deviation of each attribute for each class"
   ]
  },
  {
   "cell_type": "code",
   "execution_count": 17,
   "metadata": {},
   "outputs": [
    {
     "name": "stdout",
     "output_type": "stream",
     "text": [
      "           head_x  shoulders_x    elbowR_x    wristR_x    elbowL_x  \\\n",
      "count  589.000000   682.000000  545.000000  517.000000  549.000000   \n",
      "mean     0.308178     0.707873  -29.502999  -28.938361   26.720653   \n",
      "std     66.724662    44.889715   53.803229   86.360335   50.535668   \n",
      "min   -565.110400  -267.863000 -343.575500 -582.604900 -191.418800   \n",
      "25%    -14.142100   -11.429650  -51.389900  -66.588000   -2.356200   \n",
      "50%     -0.055712     0.230820  -39.149700  -43.419600   38.903100   \n",
      "75%     14.078200    10.718000   -1.742600    4.727800   50.753500   \n",
      "max    419.601200   182.097600  158.718700  742.064600  355.679500   \n",
      "\n",
      "         wristL_x       hips_x      kneeR_x      footR_x      kneeL_x  ...  \\\n",
      "count  521.000000   653.000000   563.000000   523.000000   557.000000  ...   \n",
      "mean    28.183038    -3.224456   -30.609337   -35.393827    31.084009  ...   \n",
      "std     74.598208    71.218967    82.785441   102.506976    83.196866  ...   \n",
      "min   -266.651800 -1443.112600 -1356.778100 -1001.159800  -343.360900  ...   \n",
      "25%    -13.700900    -8.046400   -73.452150  -102.512550    10.178900  ...   \n",
      "50%     40.137500    -0.516600   -18.793900   -16.808500    17.999000  ...   \n",
      "75%     64.968900     7.334300   -10.339150    -2.996650    76.257300  ...   \n",
      "max    565.163200   239.688200   169.331200   752.559100  1199.015200  ...   \n",
      "\n",
      "       shoulders_y    elbowR_y    wristR_y    elbowL_y    wristL_y  \\\n",
      "count   682.000000  545.000000  517.000000  549.000000  521.000000   \n",
      "mean     57.870201   41.097627   29.155811   41.827817   32.511421   \n",
      "std      42.705587   56.376778   85.725944   56.076752   84.277448   \n",
      "min    -194.999100 -153.103800 -272.053900 -187.227200 -230.451800   \n",
      "25%      35.120725   -6.527800  -25.187600   -8.948600  -24.504500   \n",
      "50%      55.850950   58.925400   13.847800   58.658200   13.631800   \n",
      "75%      90.934100   69.948300   76.057100   69.513500   75.362900   \n",
      "max     191.163800  175.208500  216.122400  196.127800  278.690800   \n",
      "\n",
      "            hips_y      kneeR_y     footR_y     kneeL_y      footL_y  \n",
      "count   653.000000   563.000000  523.000000  557.000000   523.000000  \n",
      "mean     17.199440   -41.471645 -118.909279  -44.830938  -128.321772  \n",
      "std      86.171306    94.659289   61.155014   57.587792   158.804000  \n",
      "min    -114.558700  -151.783700 -345.388000 -201.112200 -3483.999000  \n",
      "25%     -20.326900   -70.256150 -155.191200  -78.514800  -156.983050  \n",
      "50%      14.646800   -60.675200 -138.855200  -63.150800  -140.574800  \n",
      "75%      32.335400   -10.912000  -72.398650  -10.488000   -78.626350  \n",
      "max    1849.824700  1835.286400  357.077600  284.761000   159.362600  \n",
      "\n",
      "[8 rows x 22 columns]\n"
     ]
    }
   ],
   "source": [
    "# This function should calculate prior probabilities and likelihoods from the training data and using\n",
    "# them to build a naive Bayes model\n",
    "\n",
    "def train():\n",
    "    # First we will fetch our set of useful data\n",
    "    data = preprocess()\n",
    "    print(data.describe())\n",
    "    # The priors for each class are P(Class) = class_dict[class]/n\n",
    "    \n",
    "    # A Naive Bayes Learner will predict the class that maximises the posterior given the attributes seen\n",
    "    # P(class|data) = (P(data|class) * P(class))/P(data)\n",
    "    return\n",
    "\n",
    "train()"
   ]
  },
  {
   "cell_type": "code",
   "execution_count": null,
   "metadata": {
    "collapsed": true
   },
   "outputs": [],
   "source": [
    "# This function should predict classes for new items in a test dataset (for the purposes of this assignment, you\n",
    "# can re-use the training data as a test set)\n",
    "\n",
    "def predict():\n",
    "    # P(class|data) = P(X|class) * P(class)\n",
    "    \n",
    "    # Load the test data\n",
    "    \n",
    "    test = \n",
    "    return"
   ]
  },
  {
   "cell_type": "code",
   "execution_count": null,
   "metadata": {
    "collapsed": true
   },
   "outputs": [],
   "source": [
    "# This function should evaliate the prediction performance by comparing your model’s class outputs to ground\n",
    "# truth labels\n",
    "\n",
    "def evaluate():\n",
    "    return"
   ]
  },
  {
   "cell_type": "markdown",
   "metadata": {},
   "source": [
    "## Questions \n",
    "\n",
    "\n",
    "If you are in a group of 1, you will respond to **two** questions of your choosing.\n",
    "\n",
    "If you are in a group of 2, you will respond to **four** questions of your choosing.\n",
    "\n",
    "A response to a question should take about 100–250 words, and make reference to the data wherever possible.\n",
    "\n",
    "#### NOTE: you may develope codes or functions to help respond to the question here, but your formal answer should be submitted separately as a PDF."
   ]
  },
  {
   "cell_type": "markdown",
   "metadata": {},
   "source": [
    "### Q1\n",
    "Since this is a multiclass classification problem, there are multiple ways to compute precision, recall, and F-score for this classifier. Implement at least two of the methods from the \"Model Evaluation\" lecture and discuss any differences between them. (The implementation should be your own and should not just call a pre-existing function.)"
   ]
  },
  {
   "cell_type": "code",
   "execution_count": null,
   "metadata": {
    "collapsed": true
   },
   "outputs": [],
   "source": []
  },
  {
   "cell_type": "markdown",
   "metadata": {},
   "source": [
    "### Q2\n",
    "The Gaussian naıve Bayes classifier assumes that numeric attributes come from a Gaussian distribution. Is this assumption always true for the numeric attributes in this dataset? Identify some cases where the Gaussian assumption is violated and describe any evidence (or lack thereof) that this has some effect on the classifier’s predictions."
   ]
  },
  {
   "cell_type": "code",
   "execution_count": null,
   "metadata": {
    "collapsed": true
   },
   "outputs": [],
   "source": []
  },
  {
   "cell_type": "markdown",
   "metadata": {},
   "source": [
    "### Q3\n",
    "Implement a kernel density estimate (KDE) naive Bayes classifier and compare its performance to the Gaussian naive Bayes classifier. Recall that KDE has kernel bandwidth as a free parameter -- you can choose an arbitrary value for this, but a value in the range 5-25 is recommended. Discuss any differences you observe between the Gaussian and KDE naive Bayes classifiers. (As with the Gaussian naive Bayes, this KDE naive Bayes implementation should be your own and should not just call a pre-existing function.)"
   ]
  },
  {
   "cell_type": "code",
   "execution_count": null,
   "metadata": {
    "collapsed": true
   },
   "outputs": [],
   "source": []
  },
  {
   "cell_type": "markdown",
   "metadata": {},
   "source": [
    "### Q4\n",
    "Instead of using an arbitrary kernel bandwidth for the KDE naive Bayes classifier, use random hold-out or cross-validation to choose the kernel bandwidth. Discuss how this changes the model performance compared to using an arbitrary kernel bandwidth."
   ]
  },
  {
   "cell_type": "code",
   "execution_count": null,
   "metadata": {
    "collapsed": true
   },
   "outputs": [],
   "source": []
  },
  {
   "cell_type": "markdown",
   "metadata": {},
   "source": [
    "### Q5\n",
    "Naive Bayes ignores missing values, but in pose recognition tasks the missing values can be informative. Missing values indicate that some part of the body was obscured and sometimes this is relevant to the pose (e.g., holding one hand behind the back). Are missing values useful for this task? Implement a method that incorporates information about missing values and demonstrate whether it changes the classification results."
   ]
  },
  {
   "cell_type": "code",
   "execution_count": null,
   "metadata": {
    "collapsed": true
   },
   "outputs": [],
   "source": []
  },
  {
   "cell_type": "markdown",
   "metadata": {},
   "source": [
    "### Q6\n",
    "Engineer your own pose features from the provided keypoints. Instead of using the (x,y) positions of keypoints, you might consider the angles of the limbs or body, or the distances between pairs of keypoints. How does a naive Bayes classifier based on your engineered features compare to the classifier using (x,y) values? Please note that we are interested in explainable features for pose recognition, so simply putting the (x,y) values in a neural network or similar to get an arbitrary embedding will not receive full credit for this question. You should be able to explain the rationale behind your proposed features. Also, don't forget the conditional independence assumption of naive Bayes when proposing new features -- a large set of highly-correlated features may not work well."
   ]
  },
  {
   "cell_type": "code",
   "execution_count": null,
   "metadata": {
    "collapsed": true
   },
   "outputs": [],
   "source": []
  }
 ],
 "metadata": {
  "kernelspec": {
   "display_name": "Python 3",
   "language": "python",
   "name": "python3"
  },
  "language_info": {
   "codemirror_mode": {
    "name": "ipython",
    "version": 3
   },
   "file_extension": ".py",
   "mimetype": "text/x-python",
   "name": "python",
   "nbconvert_exporter": "python",
   "pygments_lexer": "ipython3",
   "version": "3.9.2"
  }
 },
 "nbformat": 4,
 "nbformat_minor": 4
}
